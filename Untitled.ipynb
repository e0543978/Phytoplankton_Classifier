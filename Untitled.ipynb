{
 "cells": [
  {
   "cell_type": "code",
   "execution_count": 2,
   "id": "1a9feca0",
   "metadata": {},
   "outputs": [],
   "source": [
    "import tensorflow as tf\n",
    "from tensorflow.keras.preprocessing.image import ImageDataGenerator"
   ]
  },
  {
   "cell_type": "code",
   "execution_count": 8,
   "id": "1033b8fb",
   "metadata": {},
   "outputs": [],
   "source": [
    "# Set the path to your dataset\n",
    "train_dir = 'C:/Users/Law Li Zhe/Desktop/Processed_Split/Processed_Split/train'\n",
    "val_dir = 'C:/Users/Law Li Zhe/Desktop/Processed_Split/Processed_Split/val'\n",
    "test_dir = 'C:/Users/Law Li Zhe/Desktop/Processed_Split/Processed_Split/test'"
   ]
  },
  {
   "cell_type": "code",
   "execution_count": 19,
   "id": "4fdc0e82",
   "metadata": {},
   "outputs": [],
   "source": [
    "# Define the parameters for data augmentation\n",
    "train_datagen = ImageDataGenerator(\n",
    "    rotation_range=20,\n",
    "    zoom_range=0.2,\n",
    "    horizontal_flip=True,\n",
    "    vertical_flip=True,\n",
    "    rescale=1./255,\n",
    "    #validation_split=0.2 # 20% of the training data will be used for validation\n",
    ")\n",
    "\n",
    "val_datagen = ImageDataGenerator(\n",
    "    rotation_range=20,\n",
    "    zoom_range=0.2,\n",
    "    horizontal_flip=True,\n",
    "    vertical_flip=True,\n",
    "    rescale=1./255,\n",
    "    #validation_split=0.2 # 20% of the training data will be used for validation\n",
    ")\n",
    "\n",
    "test_datagen = ImageDataGenerator(rescale=1./255)"
   ]
  },
  {
   "cell_type": "code",
   "execution_count": 10,
   "id": "9ffcc0fa",
   "metadata": {},
   "outputs": [
    {
     "name": "stdout",
     "output_type": "stream",
     "text": [
      "Found 45828 images belonging to 50 classes.\n"
     ]
    },
    {
     "data": {
      "image/png": "[encoded data removed]",
      "text/plain": [
       "<Figure size 432x288 with 1 Axes>"
      ]
     },
     "metadata": {
      "needs_background": "light"
     },
     "output_type": "display_data"
    },
    {
     "name": "stdout",
     "output_type": "stream",
     "text": [
      "Label for image: Aphanizomenon_flosaquae\n"
     ]
    }
   ],
   "source": [
    "import matplotlib.pyplot as plt\n",
    "import numpy as np\n",
    "from tensorflow.keras.preprocessing.image import ImageDataGenerator\n",
    "\n",
    "# Set up the data generator\n",
    "train_datagen = ImageDataGenerator(rescale=1./255)\n",
    "\n",
    "target_size = (64, 64)  # set the image size\n",
    "\n",
    "train_generator = train_datagen.flow_from_directory(\n",
    "    train_dir,\n",
    "    target_size=target_size,\n",
    "    batch_size=32,\n",
    "    class_mode='categorical')\n",
    "\n",
    "# Load the first batch of images and labels\n",
    "batch_images, batch_labels = next(train_generator)\n",
    "\n",
    "# Display the first image in the batch\n",
    "plt.imshow(batch_images[0])\n",
    "plt.show()\n",
    "\n",
    "# Print the label for the first image\n",
    "label_names = list(train_generator.class_indices.keys())\n",
    "label_index = np.argmax(batch_labels[0])\n",
    "label_name = label_names[label_index]\n",
    "print(\"Label for image:\", label_name)"
   ]
  },
  {
   "cell_type": "code",
   "execution_count": 12,
   "id": "f798cd46",
   "metadata": {},
   "outputs": [],
   "source": [
    "# Set the parameters for the CNN model\n",
    "model = tf.keras.models.Sequential([\n",
    "    tf.keras.layers.Conv2D(32, (3,3), activation='relu', input_shape=(150,150,3)),\n",
    "    tf.keras.layers.MaxPooling2D(2,2),\n",
    "    tf.keras.layers.Conv2D(64, (3,3), activation='relu'),\n",
    "    tf.keras.layers.MaxPooling2D(2,2),\n",
    "    tf.keras.layers.Conv2D(128, (3,3), activation='relu'),\n",
    "    tf.keras.layers.MaxPooling2D(2,2),\n",
    "    tf.keras.layers.Conv2D(128, (3,3), activation='relu'),\n",
    "    tf.keras.layers.MaxPooling2D(2,2),\n",
    "    tf.keras.layers.Flatten(),\n",
    "    tf.keras.layers.Dense(512, activation='relu'),\n",
    "    tf.keras.layers.Dense(1, activation='sigmoid')\n",
    "])\n",
    "\n",
    "# Compile the model\n",
    "model.compile(loss='binary_crossentropy',\n",
    "              optimizer='adam',\n",
    "              metrics=['accuracy'])\n",
    "\n",
    "# Set the parameters for training the model\n",
    "batch_size = 32\n",
    "epochs = 10 #50"
   ]
  },
  {
   "cell_type": "code",
   "execution_count": 13,
   "id": "acc9d3b0",
   "metadata": {},
   "outputs": [
    {
     "name": "stdout",
     "output_type": "stream",
     "text": [
      "Found 45828 images belonging to 50 classes.\n",
      "Found 9438 images belonging to 50 classes.\n",
      "Found 9504 images belonging to 50 classes.\n"
     ]
    },
    {
     "name": "stderr",
     "output_type": "stream",
     "text": [
      "C:\\Users\\Law Li Zhe\\AppData\\Local\\Temp\\ipykernel_17592\\370144723.py:23: UserWarning: `Model.fit_generator` is deprecated and will be removed in a future version. Please use `Model.fit`, which supports generators.\n",
      "  history = model.fit_generator(\n"
     ]
    },
    {
     "name": "stdout",
     "output_type": "stream",
     "text": [
      "Epoch 1/10\n",
      "1432/1432 [==============================] - 902s 628ms/step - loss: -9710137929099116544.0000 - accuracy: 0.1066 - val_loss: -65545894752098975744.0000 - val_accuracy: 0.1104\n",
      "Epoch 2/10\n",
      "1432/1432 [==============================] - 894s 624ms/step - loss: -804091677031656325120.0000 - accuracy: 0.1068 - val_loss: -2469073162957970472960.0000 - val_accuracy: 0.1112\n",
      "Epoch 3/10\n",
      "1432/1432 [==============================] - 977s 682ms/step - loss: -8051774104593223385088.0000 - accuracy: 0.1067 - val_loss: -17097776373723639578624.0000 - val_accuracy: 0.1105\n",
      "Epoch 4/10\n",
      "1432/1432 [==============================] - 882s 616ms/step - loss: -930787012117587296256.0000 - accuracy: 0.1068 - val_loss: -322359508598784.0000 - val_accuracy: 0.1112\n",
      "Epoch 5/10\n",
      "1432/1432 [==============================] - 880s 614ms/step - loss: -346140943843328.0000 - accuracy: 0.1067 - val_loss: -371729922785280.0000 - val_accuracy: 0.1109\n",
      "Epoch 6/10\n",
      "1432/1432 [==============================] - 940s 657ms/step - loss: -394307458564096.0000 - accuracy: 0.1067 - val_loss: -419426407022592.0000 - val_accuracy: 0.1112\n",
      "Epoch 7/10\n",
      "1432/1432 [==============================] - 900s 628ms/step - loss: -441688497586176.0000 - accuracy: 0.1068 - val_loss: -466740102299648.0000 - val_accuracy: 0.1113\n",
      "Epoch 8/10\n",
      "1432/1432 [==============================] - 810s 566ms/step - loss: -488972295864320.0000 - accuracy: 0.1068 - val_loss: -513905520541696.0000 - val_accuracy: 0.1114\n",
      "Epoch 9/10\n",
      "1432/1432 [==============================] - 811s 567ms/step - loss: -536188582625280.0000 - accuracy: 0.1067 - val_loss: -561419703549952.0000 - val_accuracy: 0.1110\n",
      "Epoch 10/10\n",
      "1432/1432 [==============================] - 824s 575ms/step - loss: -583364402741248.0000 - accuracy: 0.1067 - val_loss: -608836243161088.0000 - val_accuracy: 0.1114\n"
     ]
    },
    {
     "name": "stderr",
     "output_type": "stream",
     "text": [
      "C:\\Users\\Law Li Zhe\\AppData\\Local\\Temp\\ipykernel_17592\\370144723.py:32: UserWarning: `Model.evaluate_generator` is deprecated and will be removed in a future version. Please use `Model.evaluate`, which supports generators.\n",
      "  results = model.evaluate_generator(test_generator, steps=test_generator.samples // batch_size)\n"
     ]
    },
    {
     "name": "stdout",
     "output_type": "stream",
     "text": [
      "Test loss: -609111053959168.0\n",
      "Test accuracy: 0.1103745773434639\n"
     ]
    }
   ],
   "source": [
    "# Train the model on the training dataset\n",
    "train_generator = train_datagen.flow_from_directory(\n",
    "    train_dir,\n",
    "    target_size=(150,150),\n",
    "    batch_size=batch_size,\n",
    "    class_mode='binary'\n",
    ")\n",
    "\n",
    "val_generator = val_datagen.flow_from_directory(\n",
    "    val_dir,\n",
    "    target_size=(150,150),\n",
    "    batch_size=batch_size,\n",
    "    class_mode='binary'\n",
    ")\n",
    "\n",
    "test_generator = test_datagen.flow_from_directory(\n",
    "    test_dir,\n",
    "    target_size=(150,150),\n",
    "    batch_size=batch_size,\n",
    "    class_mode='binary'\n",
    ")\n",
    "\n",
    "history = model.fit_generator(\n",
    "    train_generator,\n",
    "    steps_per_epoch=train_generator.samples // batch_size,\n",
    "    epochs=epochs,\n",
    "    validation_data=val_generator,\n",
    "    validation_steps=val_generator.samples // batch_size\n",
    ")\n",
    "\n",
    "# Evaluate the model on the test dataset\n",
    "results = model.evaluate_generator(test_generator, steps=test_generator.samples // batch_size)\n",
    "\n",
    "print('Test loss:', results[0])\n",
    "print('Test accuracy:', results[1])"
   ]
  },
  {
   "cell_type": "code",
   "execution_count": 14,
   "id": "24a88506",
   "metadata": {},
   "outputs": [
    {
     "data": {
      "image/png": "[encoded data removed]",
      "text/plain": [
       "<Figure size 432x288 with 1 Axes>"
      ]
     },
     "metadata": {
      "needs_background": "light"
     },
     "output_type": "display_data"
    },
    {
     "data": {
      "image/png": "[encoded data removed]",
      "text/plain": [
       "<Figure size 432x288 with 1 Axes>"
      ]
     },
     "metadata": {
      "needs_background": "light"
     },
     "output_type": "display_data"
    }
   ],
   "source": [
    "# Plot the training and validation accuracy across epochs\n",
    "plt.plot(history.history['accuracy'], label='Training Accuracy')\n",
    "plt.plot(history.history['val_accuracy'], label='Validation Accuracy')\n",
    "plt.xlabel('Epoch')\n",
    "plt.ylabel('Accuracy')\n",
    "plt.legend()\n",
    "plt.show()\n",
    "\n",
    "# Plot the training and validation loss across epochs\n",
    "plt.plot(history.history['loss'], label='Training Loss')\n",
    "plt.plot(history.history['val_loss'], label='Validation Loss')\n",
    "plt.xlabel('Epoch')\n",
    "plt.ylabel('Loss')\n",
    "plt.legend()\n",
    "plt.show()"
   ]
  },
  {
   "cell_type": "code",
   "execution_count": null,
   "id": "baf592e5",
   "metadata": {},
   "outputs": [],
   "source": []
  },
  {
   "cell_type": "code",
   "execution_count": 22,
   "id": "99047b96",
   "metadata": {},
   "outputs": [
    {
     "name": "stdout",
     "output_type": "stream",
     "text": [
      "Found 45828 images belonging to 50 classes.\n",
      "Found 9438 images belonging to 50 classes.\n",
      "Found 9504 images belonging to 50 classes.\n",
      "Epoch 1/10\n",
      "1432/1432 [==============================] - 756s 528ms/step - loss: 1.1336 - acc: 0.6688 - val_loss: 0.7034 - val_acc: 0.7815\n",
      "Epoch 2/10\n",
      "1432/1432 [==============================] - 790s 552ms/step - loss: 0.5606 - acc: 0.8260 - val_loss: 0.4689 - val_acc: 0.8530\n",
      "Epoch 3/10\n",
      "1432/1432 [==============================] - 788s 550ms/step - loss: 0.4083 - acc: 0.8728 - val_loss: 0.3195 - val_acc: 0.9008\n",
      "Epoch 4/10\n",
      "1432/1432 [==============================] - 774s 540ms/step - loss: 0.3356 - acc: 0.8948 - val_loss: 0.3227 - val_acc: 0.9039\n",
      "Epoch 5/10\n",
      "1432/1432 [==============================] - 771s 538ms/step - loss: 0.2898 - acc: 0.9090 - val_loss: 0.3007 - val_acc: 0.9153\n",
      "Epoch 6/10\n",
      "1432/1432 [==============================] - 803s 561ms/step - loss: 0.2658 - acc: 0.9182 - val_loss: 0.3644 - val_acc: 0.8892\n",
      "Epoch 7/10\n",
      "1432/1432 [==============================] - 782s 546ms/step - loss: 0.2408 - acc: 0.9260 - val_loss: 0.3369 - val_acc: 0.9084\n",
      "Epoch 8/10\n",
      "1432/1432 [==============================] - 779s 544ms/step - loss: 0.2232 - acc: 0.9301 - val_loss: 0.3770 - val_acc: 0.8953\n",
      "Epoch 9/10\n",
      "1432/1432 [==============================] - 770s 538ms/step - loss: 0.2164 - acc: 0.9339 - val_loss: 0.3356 - val_acc: 0.9016\n",
      "Epoch 10/10\n",
      "1432/1432 [==============================] - 765s 534ms/step - loss: 0.2070 - acc: 0.9373 - val_loss: 0.2604 - val_acc: 0.9252\n"
     ]
    },
    {
     "name": "stderr",
     "output_type": "stream",
     "text": [
      "C:\\Users\\Law Li Zhe\\AppData\\Local\\Temp\\ipykernel_17592\\3489914583.py:76: UserWarning: `Model.evaluate_generator` is deprecated and will be removed in a future version. Please use `Model.evaluate`, which supports generators.\n",
      "  results = model.evaluate_generator(test_generator, steps=test_generator.samples // batch_size)\n"
     ]
    },
    {
     "name": "stdout",
     "output_type": "stream",
     "text": [
      "Test accuracy: 0.9265572428703308\n"
     ]
    }
   ],
   "source": [
    "from keras.preprocessing.image import ImageDataGenerator\n",
    "from keras.models import Sequential\n",
    "from keras.layers import Conv2D, MaxPooling2D, Flatten, Dense\n",
    "\n",
    "# Set the number of classes\n",
    "num_classes = 50\n",
    "\n",
    "# Set the batch size and number of epochs\n",
    "batch_size = 32\n",
    "epochs = 10\n",
    "\n",
    "# Define the data generators\n",
    "train_datagen = ImageDataGenerator(\n",
    "    rescale=1./255,\n",
    "    shear_range=0.2,\n",
    "    zoom_range=0.2,\n",
    "    horizontal_flip=True\n",
    ")\n",
    "\n",
    "val_datagen = ImageDataGenerator(rescale=1./255)\n",
    "\n",
    "test_datagen = ImageDataGenerator(rescale=1./255)\n",
    "\n",
    "train_generator = train_datagen.flow_from_directory(\n",
    "    train_dir,\n",
    "    target_size=(150,150),\n",
    "    batch_size=batch_size,\n",
    "    class_mode='categorical'\n",
    ")\n",
    "\n",
    "val_generator = val_datagen.flow_from_directory(\n",
    "    val_dir,\n",
    "    target_size=(150,150),\n",
    "    batch_size=batch_size,\n",
    "    class_mode='categorical'\n",
    ")\n",
    "\n",
    "test_generator = test_datagen.flow_from_directory(\n",
    "    test_dir,\n",
    "    target_size=(150,150),\n",
    "    batch_size=batch_size,\n",
    "    class_mode='categorical'\n",
    ")\n",
    "\n",
    "# Define the model\n",
    "model = Sequential()\n",
    "model.add(Conv2D(32, (3,3), activation='relu', input_shape=(150,150,3)))\n",
    "model.add(MaxPooling2D((2,2)))\n",
    "model.add(Conv2D(64, (3,3), activation='relu'))\n",
    "model.add(MaxPooling2D((2,2)))\n",
    "model.add(Conv2D(128, (3,3), activation='relu'))\n",
    "model.add(MaxPooling2D((2,2)))\n",
    "model.add(Conv2D(128, (3,3), activation='relu'))\n",
    "model.add(MaxPooling2D((2,2)))\n",
    "model.add(Flatten())\n",
    "model.add(Dense(512, activation='relu'))\n",
    "model.add(Dense(num_classes, activation='softmax'))\n",
    "\n",
    "# Compile the model\n",
    "model.compile(\n",
    "    loss='categorical_crossentropy',\n",
    "    optimizer='rmsprop',\n",
    "    metrics=['acc']\n",
    ")\n",
    "\n",
    "# Train the model\n",
    "history = model.fit(\n",
    "    train_generator,\n",
    "    steps_per_epoch=train_generator.samples // batch_size,\n",
    "    epochs=epochs,\n",
    "    validation_data=val_generator,\n",
    "    validation_steps=val_generator.samples // batch_size\n",
    ")\n",
    "\n",
    "# Evaluate the model on the test dataset\n",
    "results = model.evaluate_generator(test_generator, steps=test_generator.samples // batch_size)\n",
    "\n",
    "print('Test accuracy:', results[1])"
   ]
  },
  {
   "cell_type": "code",
   "execution_count": 23,
   "id": "db8f4ed5",
   "metadata": {},
   "outputs": [],
   "source": [
    "# Save model\n",
    "model.save('phytoplankton_cnn.h5')"
   ]
  },
  {
   "cell_type": "code",
   "execution_count": 26,
   "id": "c4fc1a75",
   "metadata": {},
   "outputs": [
    {
     "name": "stderr",
     "output_type": "stream",
     "text": [
      "C:\\Users\\Law Li Zhe\\AppData\\Local\\Temp\\ipykernel_17592\\2227361160.py:4: UserWarning: `Model.predict_generator` is deprecated and will be removed in a future version. Please use `Model.predict`, which supports generators.\n",
      "  y_pred = model.predict_generator(test_generator, steps=test_generator.samples // batch_size+1)\n"
     ]
    },
    {
     "name": "stdout",
     "output_type": "stream",
     "text": [
      "WARNING:tensorflow:Your input ran out of data; interrupting training. Make sure that your dataset or generator can generate at least `steps_per_epoch * epochs` batches (in this case, 298 batches). You may need to use the repeat() function when building your dataset.\n",
      "                                    precision    recall  f1-score   support\n",
      "\n",
      "                 Amylax_triacantha       0.00      0.00      0.00         4\n",
      "           Aphanizomenon_flosaquae       0.11      0.12      0.11      1049\n",
      "       Aphanothece_paralleliformis       0.00      0.00      0.00         5\n",
      "                             Beads       0.00      0.00      0.00        20\n",
      "                      Centrales_sp       0.01      0.01      0.01        72\n",
      "             Ceratoneis_closterium       0.00      0.00      0.00         8\n",
      "                    Chaetoceros_sp       0.01      0.00      0.01       208\n",
      "             Chaetoceros_sp_single       0.00      0.00      0.00        33\n",
      "                    Chlorococcales       0.00      0.00      0.00        15\n",
      "                     Chroococcales       0.00      0.00      0.00        22\n",
      "                 Chroococcus_small       0.01      0.01      0.01       125\n",
      "                           Ciliata       0.00      0.00      0.00        37\n",
      "                   Cryptomonadales       0.01      0.01      0.01       108\n",
      "           Cryptophyceae-Teleaulax       0.13      0.13      0.13      1025\n",
      "      Cyclotella_choctawhatcheeana       0.00      0.00      0.00        16\n",
      "        Cymbomonas_tetramitiformis       0.00      0.00      0.00        31\n",
      "                       Dinophyceae       0.01      0.01      0.01       216\n",
      "              Dinophysis_acuminata       0.00      0.00      0.00        34\n",
      "       Dolichospermum-Anabaenopsis       0.20      0.19      0.20      1842\n",
      "Dolichospermum-Anabaenopsis-coiled       0.03      0.04      0.04       377\n",
      "                    Euglenophyceae       0.00      0.00      0.00        16\n",
      "                   Eutreptiella_sp       0.05      0.05      0.05       338\n",
      "                  Gonyaulax_verior       0.00      0.00      0.00         4\n",
      "                     Gymnodiniales       0.00      0.00      0.00        11\n",
      "                  Gymnodinium_like       0.00      0.00      0.00        25\n",
      "             Heterocapsa_rotundata       0.03      0.02      0.02        93\n",
      "             Heterocapsa_triquetra       0.06      0.05      0.06       492\n",
      "                        Heterocyte       0.00      0.00      0.00        40\n",
      "            Katablepharis_remigera       0.00      0.00      0.00         9\n",
      "                     Licmophora_sp       0.00      0.00      0.00        12\n",
      "                  Melosira_arctica       0.00      0.00      0.00         7\n",
      "                   Merismopedia_sp       0.00      0.00      0.00        16\n",
      "                 Mesodinium_rubrum       0.01      0.01      0.01       171\n",
      "           Monoraphidium_contortum       0.00      0.00      0.00        50\n",
      "                Nitzschia_paleacea       0.00      0.00      0.00        11\n",
      "               Nodularia_spumigena       0.00      0.00      0.00        26\n",
      "                       Oocystis_sp       0.01      0.01      0.01       127\n",
      "                   Oscillatoriales       0.08      0.08      0.08       666\n",
      "                Pauliella_taeniata       0.00      0.00      0.00        19\n",
      "                 Pennales_sp_thick       0.00      0.00      0.00        32\n",
      "                  Pennales_sp_thin       0.01      0.01      0.01       118\n",
      "       Peridiniella_catenata_chain       0.00      0.00      0.00        30\n",
      "      Peridiniella_catenata_single       0.02      0.01      0.02       136\n",
      "             Prorocentrum_cordatum       0.00      0.00      0.00        42\n",
      "                Pseudopedinella_sp       0.00      0.00      0.00        58\n",
      "                    Pyramimonas_sp       0.02      0.02      0.02       185\n",
      "               Skeletonema_marinoi       0.06      0.05      0.06       620\n",
      "             Snowella-Woronichinia       0.04      0.04      0.04       443\n",
      "           Thalassiosira_levanderi       0.04      0.04      0.04       382\n",
      "                   Uroglenopsis_sp       0.01      0.01      0.01        78\n",
      "\n",
      "                          accuracy                           0.08      9504\n",
      "                         macro avg       0.02      0.02      0.02      9504\n",
      "                      weighted avg       0.09      0.08      0.09      9504\n",
      "\n"
     ]
    }
   ],
   "source": [
    "from sklearn.metrics import classification_report\n",
    "\n",
    "# Make predictions on the test dataset\n",
    "y_pred = model.predict_generator(test_generator, steps=test_generator.samples // batch_size+1)\n",
    "\n",
    "# Convert predictions to class labels\n",
    "y_pred = np.argmax(y_pred, axis=1)\n",
    "class_labels = list(test_generator.class_indices.keys())\n",
    "\n",
    "# Get ground truth labels\n",
    "y_true = test_generator.classes\n",
    "\n",
    "# Compute classification report\n",
    "report = classification_report(y_true, y_pred, target_names=class_labels)\n",
    "print(report)"
   ]
  },
  {
   "cell_type": "code",
   "execution_count": 24,
   "id": "471acdb6",
   "metadata": {},
   "outputs": [
    {
     "name": "stderr",
     "output_type": "stream",
     "text": [
      "C:\\Users\\Law Li Zhe\\AppData\\Local\\Temp\\ipykernel_17592\\1331029484.py:6: UserWarning: `Model.predict_generator` is deprecated and will be removed in a future version. Please use `Model.predict`, which supports generators.\n",
      "  y_pred = model.predict_generator(test_generator, steps=test_generator.samples // batch_size+1)\n"
     ]
    },
    {
     "name": "stdout",
     "output_type": "stream",
     "text": [
      "WARNING:tensorflow:Your input ran out of data; interrupting training. Make sure that your dataset or generator can generate at least `steps_per_epoch * epochs` batches (in this case, 298 batches). You may need to use the repeat() function when building your dataset.\n",
      "Classification Report\n",
      "                                    precision    recall  f1-score   support\n",
      "\n",
      "                 Amylax_triacantha       0.00      0.00      0.00         4\n",
      "           Aphanizomenon_flosaquae       0.10      0.11      0.11      1049\n",
      "       Aphanothece_paralleliformis       0.00      0.00      0.00         5\n",
      "                             Beads       0.00      0.00      0.00        20\n",
      "                      Centrales_sp       0.00      0.00      0.00        72\n",
      "             Ceratoneis_closterium       0.00      0.00      0.00         8\n",
      "                    Chaetoceros_sp       0.03      0.03      0.03       208\n",
      "             Chaetoceros_sp_single       0.00      0.00      0.00        33\n",
      "                    Chlorococcales       0.00      0.00      0.00        15\n",
      "                     Chroococcales       0.00      0.00      0.00        22\n",
      "                 Chroococcus_small       0.02      0.02      0.02       125\n",
      "                           Ciliata       0.03      0.03      0.03        37\n",
      "                   Cryptomonadales       0.00      0.00      0.00       108\n",
      "           Cryptophyceae-Teleaulax       0.12      0.12      0.12      1025\n",
      "      Cyclotella_choctawhatcheeana       0.00      0.00      0.00        16\n",
      "        Cymbomonas_tetramitiformis       0.00      0.00      0.00        31\n",
      "                       Dinophyceae       0.02      0.02      0.02       216\n",
      "              Dinophysis_acuminata       0.00      0.00      0.00        34\n",
      "       Dolichospermum-Anabaenopsis       0.19      0.19      0.19      1842\n",
      "Dolichospermum-Anabaenopsis-coiled       0.04      0.04      0.04       377\n",
      "                    Euglenophyceae       0.00      0.00      0.00        16\n",
      "                   Eutreptiella_sp       0.03      0.04      0.03       338\n",
      "                  Gonyaulax_verior       0.00      0.00      0.00         4\n",
      "                     Gymnodiniales       0.00      0.00      0.00        11\n",
      "                  Gymnodinium_like       0.00      0.00      0.00        25\n",
      "             Heterocapsa_rotundata       0.01      0.01      0.01        93\n",
      "             Heterocapsa_triquetra       0.04      0.04      0.04       492\n",
      "                        Heterocyte       0.00      0.00      0.00        40\n",
      "            Katablepharis_remigera       0.00      0.00      0.00         9\n",
      "                     Licmophora_sp       0.00      0.00      0.00        12\n",
      "                  Melosira_arctica       0.00      0.00      0.00         7\n",
      "                   Merismopedia_sp       0.00      0.00      0.00        16\n",
      "                 Mesodinium_rubrum       0.01      0.01      0.01       171\n",
      "           Monoraphidium_contortum       0.00      0.00      0.00        50\n",
      "                Nitzschia_paleacea       0.00      0.00      0.00        11\n",
      "               Nodularia_spumigena       0.00      0.00      0.00        26\n",
      "                       Oocystis_sp       0.02      0.02      0.02       127\n",
      "                   Oscillatoriales       0.07      0.07      0.07       666\n",
      "                Pauliella_taeniata       0.00      0.00      0.00        19\n",
      "                 Pennales_sp_thick       0.03      0.03      0.03        32\n",
      "                  Pennales_sp_thin       0.00      0.00      0.00       118\n",
      "       Peridiniella_catenata_chain       0.00      0.00      0.00        30\n",
      "      Peridiniella_catenata_single       0.00      0.00      0.00       136\n",
      "             Prorocentrum_cordatum       0.00      0.00      0.00        42\n",
      "                Pseudopedinella_sp       0.00      0.00      0.00        58\n",
      "                    Pyramimonas_sp       0.03      0.03      0.03       185\n",
      "               Skeletonema_marinoi       0.06      0.06      0.06       620\n",
      "             Snowella-Woronichinia       0.06      0.06      0.06       443\n",
      "           Thalassiosira_levanderi       0.04      0.04      0.04       382\n",
      "                   Uroglenopsis_sp       0.01      0.01      0.01        78\n",
      "\n",
      "                          accuracy                           0.08      9504\n",
      "                         macro avg       0.02      0.02      0.02      9504\n",
      "                      weighted avg       0.08      0.08      0.08      9504\n",
      "\n"
     ]
    }
   ],
   "source": [
    "import numpy as np\n",
    "from sklearn.metrics import classification_report\n",
    "\n",
    "# Evaluate the model on the test dataset and print the results\n",
    "test_generator.reset()\n",
    "y_pred = model.predict_generator(test_generator, steps=test_generator.samples // batch_size+1)\n",
    "y_pred = np.argmax(y_pred, axis=1)\n",
    "y_true = test_generator.classes\n",
    "class_names = list(test_generator.class_indices.keys())\n",
    "\n",
    "print('Classification Report')\n",
    "print(classification_report(y_true, y_pred, target_names=class_names))"
   ]
  },
  {
   "cell_type": "code",
   "execution_count": 27,
   "id": "3e212b2d",
   "metadata": {},
   "outputs": [
    {
     "data": {
      "image/png": "[encoded data removed]",
      "text/plain": [
       "<Figure size 432x288 with 1 Axes>"
      ]
     },
     "metadata": {
      "needs_background": "light"
     },
     "output_type": "display_data"
    },
    {
     "data": {
      "image/png": "[encoded data removed]",
      "text/plain": [
       "<Figure size 432x288 with 1 Axes>"
      ]
     },
     "metadata": {
      "needs_background": "light"
     },
     "output_type": "display_data"
    }
   ],
   "source": [
    "# Plot the training and validation accuracy across epochs\n",
    "plt.plot(history.history['acc'], label='Training Accuracy')\n",
    "plt.plot(history.history['val_acc'], label='Validation Accuracy')\n",
    "plt.xlabel('Epoch')\n",
    "plt.ylabel('Accuracy')\n",
    "plt.legend()\n",
    "plt.show()\n",
    "\n",
    "# Plot the training and validation loss across epochs\n",
    "plt.plot(history.history['loss'], label='Training Loss')\n",
    "plt.plot(history.history['val_loss'], label='Validation Loss')\n",
    "plt.xlabel('Epoch')\n",
    "plt.ylabel('Loss')\n",
    "plt.legend()\n",
    "plt.show()"
   ]
  },
  {
   "cell_type": "markdown",
   "id": "363d5f45",
   "metadata": {},
   "source": [
    "import tensorflow as tf\n",
    "from tensorflow.keras.preprocessing.image import ImageDataGenerator\n",
    "\n",
    "# Set the path to your dataset\n",
    "train_dir = 'C:/Users/markl/Desktop/CS Proj/Trial/train'\n",
    "#val_dir = 'path/to/validation/dataset'\n",
    "test_dir = 'C:/Users/markl/Desktop/CS Proj/Trial/test'\n",
    "\n",
    "# Define the parameters for data augmentation\n",
    "train_datagen = ImageDataGenerator(\n",
    "    rotation_range=20,\n",
    "    zoom_range=0.2,\n",
    "    horizontal_flip=True,\n",
    "    vertical_flip=True,\n",
    "    rescale=1./255,\n",
    "    validation_split=0.2 # 20% of the training data will be used for validation\n",
    ")\n",
    "\n",
    "test_datagen = ImageDataGenerator(rescale=1./255)\n",
    "\n",
    "# Set the parameters for the CNN model\n",
    "model = tf.keras.models.Sequential([\n",
    "    tf.keras.layers.Conv2D(32, (3,3), activation='relu', input_shape=(150,150,3)),\n",
    "    tf.keras.layers.MaxPooling2D(2,2),\n",
    "    tf.keras.layers.Conv2D(64, (3,3), activation='relu'),\n",
    "    tf.keras.layers.MaxPooling2D(2,2),\n",
    "    tf.keras.layers.Conv2D(128, (3,3), activation='relu'),\n",
    "    tf.keras.layers.MaxPooling2D(2,2),\n",
    "    tf.keras.layers.Conv2D(128, (3,3), activation='relu'),\n",
    "    tf.keras.layers.MaxPooling2D(2,2),\n",
    "    tf.keras.layers.Flatten(),\n",
    "    tf.keras.layers.Dense(512, activation='relu'),\n",
    "    tf.keras.layers.Dense(1, activation='sigmoid')\n",
    "])\n",
    "\n",
    "# Compile the model\n",
    "model.compile(loss='binary_crossentropy',\n",
    "              optimizer='adam',\n",
    "              metrics=['accuracy'])\n",
    "\n",
    "# Set the parameters for training the model\n",
    "batch_size = 32\n",
    "epochs = 10#50\n",
    "\n",
    "# Train the model on the training dataset\n",
    "train_generator = train_datagen.flow_from_directory(\n",
    "    train_dir,\n",
    "    target_size=(150,150),\n",
    "    batch_size=batch_size,\n",
    "    class_mode='binary',\n",
    "    subset='training'\n",
    ")\n",
    "\n",
    "val_generator = train_datagen.flow_from_directory(\n",
    "    train_dir,\n",
    "    target_size=(150,150),\n",
    "    batch_size=batch_size,\n",
    "    class_mode='binary',\n",
    "    subset='validation'\n",
    ")\n",
    "\n",
    "test_generator = test_datagen.flow_from_directory(\n",
    "    test_dir,\n",
    "    target_size=(150,150),\n",
    "    batch_size=batch_size,\n",
    "    class_mode='binary'\n",
    ")\n",
    "\n",
    "history = model.fit_generator(\n",
    "    train_generator,\n",
    "    steps_per_epoch=train_generator.samples // batch_size,\n",
    "    epochs=epochs,\n",
    "    validation_data=val_generator,\n",
    "    validation_steps=val_generator.samples // batch_size\n",
    ")\n",
    "\n",
    "# Evaluate the model on the test dataset\n",
    "results = model.evaluate_generator(test_generator, steps=test_generator.samples // batch_size)\n",
    "\n",
    "print('Test loss:', results[0])\n",
    "print('Test accuracy:', results[1])'''\n"
   ]
  }
 ],
 "metadata": {
  "kernelspec": {
   "display_name": "Python 3 (ipykernel)",
   "language": "python",
   "name": "python3"
  },
  "language_info": {
   "codemirror_mode": {
    "name": "ipython",
    "version": 3
   },
   "file_extension": ".py",
   "mimetype": "text/x-python",
   "name": "python",
   "nbconvert_exporter": "python",
   "pygments_lexer": "ipython3",
   "version": "3.9.1"
  }
 },
 "nbformat": 4,
 "nbformat_minor": 5
}

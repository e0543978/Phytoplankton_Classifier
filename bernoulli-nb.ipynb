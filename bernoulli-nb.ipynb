{
 "cells": [
  {
   "cell_type": "markdown",
   "source": [
    "## Bernoulli Naive Bayes"
   ],
   "metadata": {
    "collapsed": false
   }
  },
  {
   "cell_type": "markdown",
   "source": [
    "Without preprocessing"
   ],
   "metadata": {
    "collapsed": false
   }
  },
  {
   "cell_type": "code",
   "execution_count": 1,
   "metadata": {
    "collapsed": true
   },
   "outputs": [],
   "source": [
    "import numpy as np\n",
    "import pandas as pd\n",
    "from sklearn.naive_bayes import BernoulliNB\n",
    "from sklearn.metrics import classification_report"
   ]
  },
  {
   "cell_type": "code",
   "execution_count": 2,
   "outputs": [
    {
     "name": "stdout",
     "output_type": "stream",
     "text": [
      "read train\n",
      "read test\n",
      "read val\n"
     ]
    }
   ],
   "source": [
    "train_csv = pd.read_csv('data/no_processing/train_100.csv', header=None)\n",
    "print(\"read train\")\n",
    "test_csv = pd.read_csv('data/no_processing/test_100.csv', header=None)\n",
    "print(\"read test\")\n",
    "validation_csv = pd.read_csv('data/no_processing/val_100.csv', header=None)\n",
    "print(\"read val\")\n",
    "Y_train = train_csv.iloc[:, -1]\n",
    "X_train = train_csv.iloc[:,:-1]\n",
    "X_test = test_csv.iloc[:,:-1]\n",
    "Y_test = test_csv.iloc[:, -1]"
   ],
   "metadata": {
    "collapsed": false
   }
  },
  {
   "cell_type": "code",
   "execution_count": 3,
   "outputs": [
    {
     "data": {
      "text/plain": "50"
     },
     "execution_count": 3,
     "metadata": {},
     "output_type": "execute_result"
    }
   ],
   "source": [
    "Y_train.nunique()"
   ],
   "metadata": {
    "collapsed": false
   }
  },
  {
   "cell_type": "code",
   "execution_count": 4,
   "outputs": [],
   "source": [
    "model = BernoulliNB()\n",
    "model.fit(X_train, Y_train)\n",
    "Y_pred = model.predict(X_test)"
   ],
   "metadata": {
    "collapsed": false
   }
  },
  {
   "cell_type": "code",
   "execution_count": 5,
   "outputs": [
    {
     "name": "stdout",
     "output_type": "stream",
     "text": [
      "              precision    recall  f1-score   support\n",
      "\n",
      "         0.0       1.00      0.00      0.00         4\n",
      "         1.0       0.67      0.60      0.63      1049\n",
      "         2.0       1.00      0.00      0.00         5\n",
      "         3.0       0.52      0.80      0.63        20\n",
      "         4.0       0.11      0.12      0.12        72\n",
      "         5.0       0.00      0.00      0.00         8\n",
      "         6.0       0.40      0.38      0.39       208\n",
      "         7.0       0.70      0.42      0.53        33\n",
      "         8.0       0.00      0.00      0.00        15\n",
      "         9.0       0.18      0.09      0.12        22\n",
      "        10.0       0.13      0.30      0.18       125\n",
      "        11.0       0.18      0.08      0.11        37\n",
      "        12.0       0.06      0.03      0.04       108\n",
      "        13.0       0.53      0.68      0.59      1025\n",
      "        14.0       1.00      0.00      0.00        16\n",
      "        15.0       0.13      0.39      0.19        31\n",
      "        16.0       0.37      0.43      0.40       216\n",
      "        17.0       0.06      0.21      0.09        34\n",
      "        18.0       0.97      0.06      0.12      1842\n",
      "        19.0       0.35      0.63      0.45       377\n",
      "        20.0       0.12      0.31      0.17        16\n",
      "        21.0       0.36      0.54      0.43       338\n",
      "        22.0       1.00      0.00      0.00         4\n",
      "        23.0       0.02      0.09      0.03        11\n",
      "        24.0       0.07      0.04      0.05        25\n",
      "        25.0       0.04      0.01      0.02        93\n",
      "        26.0       0.58      0.54      0.56       492\n",
      "        27.0       0.09      0.40      0.15        40\n",
      "        28.0       0.01      0.11      0.02         9\n",
      "        29.0       0.05      0.08      0.06        12\n",
      "        30.0       0.00      0.00      0.00         7\n",
      "        31.0       0.00      0.00      0.00        16\n",
      "        32.0       0.07      0.07      0.07       171\n",
      "        33.0       0.24      0.40      0.30        50\n",
      "        34.0       0.00      0.00      0.00        11\n",
      "        35.0       1.00      0.00      0.00        26\n",
      "        36.0       0.11      0.24      0.15       127\n",
      "        37.0       0.55      0.74      0.63       666\n",
      "        38.0       0.08      0.32      0.13        19\n",
      "        39.0       0.13      0.16      0.14        32\n",
      "        40.0       0.14      0.67      0.23       118\n",
      "        41.0       0.41      0.37      0.39        30\n",
      "        42.0       0.40      0.48      0.44       136\n",
      "        43.0       0.09      0.38      0.14        42\n",
      "        44.0       0.28      0.40      0.33        58\n",
      "        45.0       0.48      0.81      0.60       185\n",
      "        46.0       0.46      0.24      0.32       620\n",
      "        47.0       0.39      0.27      0.32       443\n",
      "        48.0       0.57      0.22      0.31       382\n",
      "        49.0       0.47      0.36      0.41        78\n",
      "\n",
      "    accuracy                           0.39      9504\n",
      "   macro avg       0.33      0.27      0.22      9504\n",
      "weighted avg       0.55      0.39      0.37      9504\n",
      "\n"
     ]
    }
   ],
   "source": [
    "print(classification_report(Y_test, Y_pred, zero_division=1))"
   ],
   "metadata": {
    "collapsed": false
   }
  },
  {
   "cell_type": "markdown",
   "source": [
    "With PCA"
   ],
   "metadata": {
    "collapsed": false
   }
  },
  {
   "cell_type": "code",
   "execution_count": 6,
   "outputs": [
    {
     "name": "stdout",
     "output_type": "stream",
     "text": [
      "read pca_train\n",
      "read pca_test\n",
      "read pca_val\n"
     ]
    }
   ],
   "source": [
    "pca_train_csv = pd.read_csv('data/pca/train_pca_100.csv', header=None)\n",
    "print(\"read pca_train\")\n",
    "pca_test_csv = pd.read_csv('data/pca/test_pca_100.csv', header=None)\n",
    "print(\"read pca_test\")\n",
    "pca_validation_csv = pd.read_csv('data/pca/val_pca_100.csv', header=None)\n",
    "print(\"read pca_val\")\n",
    "Y_pca_train = pca_train_csv.iloc[:, -1]\n",
    "X_pca_train = pca_train_csv.iloc[:,:-1]\n",
    "X_pca_test = pca_test_csv.iloc[:,:-1]\n",
    "Y_pca_test = pca_test_csv.iloc[:, -1]"
   ],
   "metadata": {
    "collapsed": false
   }
  },
  {
   "cell_type": "code",
   "execution_count": 7,
   "outputs": [
    {
     "data": {
      "text/plain": "50"
     },
     "execution_count": 7,
     "metadata": {},
     "output_type": "execute_result"
    }
   ],
   "source": [
    "Y_pca_train.nunique()"
   ],
   "metadata": {
    "collapsed": false
   }
  },
  {
   "cell_type": "code",
   "execution_count": 8,
   "outputs": [],
   "source": [
    "pca_model = BernoulliNB()\n",
    "pca_model.fit(X_pca_train, Y_pca_train)\n",
    "Y_pca_pred = pca_model.predict(X_pca_test)"
   ],
   "metadata": {
    "collapsed": false
   }
  },
  {
   "cell_type": "code",
   "execution_count": 9,
   "outputs": [
    {
     "name": "stdout",
     "output_type": "stream",
     "text": [
      "              precision    recall  f1-score   support\n",
      "\n",
      "         0.0       0.05      0.25      0.08         4\n",
      "         1.0       0.62      0.44      0.51      1049\n",
      "         2.0       0.00      0.00      0.00         5\n",
      "         3.0       0.59      0.80      0.68        20\n",
      "         4.0       0.14      0.29      0.19        72\n",
      "         5.0       0.04      0.38      0.07         8\n",
      "         6.0       0.37      0.36      0.36       208\n",
      "         7.0       0.29      0.48      0.36        33\n",
      "         8.0       0.06      0.07      0.06        15\n",
      "         9.0       0.00      0.00      0.00        22\n",
      "        10.0       0.45      0.29      0.35       125\n",
      "        11.0       0.00      0.00      0.00        37\n",
      "        12.0       0.23      0.08      0.12       108\n",
      "        13.0       0.77      0.53      0.63      1025\n",
      "        14.0       0.00      0.00      0.00        16\n",
      "        15.0       0.19      0.61      0.29        31\n",
      "        16.0       0.55      0.57      0.56       216\n",
      "        17.0       0.29      0.41      0.34        34\n",
      "        18.0       0.75      0.57      0.65      1842\n",
      "        19.0       0.43      0.56      0.49       377\n",
      "        20.0       0.10      0.50      0.16        16\n",
      "        21.0       0.46      0.62      0.53       338\n",
      "        22.0       0.01      0.25      0.02         4\n",
      "        23.0       0.04      0.36      0.07        11\n",
      "        24.0       0.03      0.04      0.04        25\n",
      "        25.0       0.08      0.02      0.03        93\n",
      "        26.0       0.63      0.57      0.60       492\n",
      "        27.0       0.10      0.20      0.13        40\n",
      "        28.0       0.03      0.22      0.05         9\n",
      "        29.0       0.05      0.25      0.09        12\n",
      "        30.0       0.01      0.29      0.03         7\n",
      "        31.0       0.05      0.12      0.07        16\n",
      "        32.0       0.12      0.07      0.09       171\n",
      "        33.0       0.21      0.66      0.31        50\n",
      "        34.0       0.06      0.09      0.07        11\n",
      "        35.0       0.08      0.42      0.13        26\n",
      "        36.0       0.21      0.09      0.13       127\n",
      "        37.0       0.56      0.59      0.58       666\n",
      "        38.0       0.30      0.32      0.31        19\n",
      "        39.0       0.10      0.38      0.16        32\n",
      "        40.0       0.21      0.41      0.27       118\n",
      "        41.0       0.29      0.40      0.34        30\n",
      "        42.0       0.34      0.34      0.34       136\n",
      "        43.0       0.13      0.38      0.19        42\n",
      "        44.0       0.24      0.64      0.35        58\n",
      "        45.0       0.46      0.70      0.56       185\n",
      "        46.0       0.60      0.52      0.56       620\n",
      "        47.0       0.69      0.51      0.59       443\n",
      "        48.0       0.50      0.32      0.39       382\n",
      "        49.0       0.37      0.55      0.45        78\n",
      "\n",
      "    accuracy                           0.48      9504\n",
      "   macro avg       0.26      0.35      0.27      9504\n",
      "weighted avg       0.56      0.48      0.51      9504\n",
      "\n"
     ]
    }
   ],
   "source": [
    "print(classification_report(Y_pca_test, Y_pca_pred, zero_division=1))"
   ],
   "metadata": {
    "collapsed": false
   }
  }
 ],
 "metadata": {
  "kernelspec": {
   "display_name": "Python 3",
   "language": "python",
   "name": "python3"
  },
  "language_info": {
   "codemirror_mode": {
    "name": "ipython",
    "version": 2
   },
   "file_extension": ".py",
   "mimetype": "text/x-python",
   "name": "python",
   "nbconvert_exporter": "python",
   "pygments_lexer": "ipython2",
   "version": "2.7.6"
  }
 },
 "nbformat": 4,
 "nbformat_minor": 0
}

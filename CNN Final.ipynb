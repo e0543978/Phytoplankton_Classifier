{
 "cells": [
  {
   "cell_type": "code",
   "execution_count": 1,
   "id": "9b0c59bb",
   "metadata": {},
   "outputs": [],
   "source": [
    "import tensorflow as tf\n",
    "import math\n",
    "from tensorflow import keras\n",
    "from keras import layers\n",
    "import numpy as np"
   ]
  },
  {
   "cell_type": "code",
   "execution_count": 2,
   "id": "061cb37c",
   "metadata": {},
   "outputs": [],
   "source": [
    "# Set the path to your dataset\n",
    "train_dir = 'C:/Users/Law Li Zhe/Desktop/Processed_Split/Processed_Split/train'\n",
    "val_dir = 'C:/Users/Law Li Zhe/Desktop/Processed_Split/Processed_Split/val'\n",
    "test_dir = 'C:/Users/Law Li Zhe/Desktop/Processed_Split/Processed_Split/test'"
   ]
  },
  {
   "cell_type": "code",
   "execution_count": 7,
   "id": "f6d3f2bc",
   "metadata": {},
   "outputs": [
    {
     "name": "stdout",
     "output_type": "stream",
     "text": [
      "Found 45828 files belonging to 50 classes.\n",
      "Found 9438 files belonging to 50 classes.\n",
      "Found 9504 files belonging to 50 classes.\n"
     ]
    }
   ],
   "source": [
    "data_train = tf.keras.utils.image_dataset_from_directory(train_dir, labels='inferred', image_size=(100, 100), batch_size=32,color_mode='grayscale'\n",
    ")\n",
    "data_val = tf.keras.utils.image_dataset_from_directory(val_dir, labels='inferred', image_size=(100, 100), batch_size=32, color_mode='grayscale'\n",
    ")\n",
    "data_test = tf.keras.utils.image_dataset_from_directory(test_dir, labels='inferred', image_size=(100, 100), batch_size=32, color_mode='grayscale'\n",
    ")"
   ]
  },
  {
   "cell_type": "code",
   "execution_count": 8,
   "id": "5aa947db",
   "metadata": {},
   "outputs": [
    {
     "data": {
      "text/plain": [
       "\"model.compile(loss='sparse_categorical_crossentropy',\\n              optimizer=Adam(lr=1e-5), \\n              metrics=['accuracy'])\""
      ]
     },
     "execution_count": 8,
     "metadata": {},
     "output_type": "execute_result"
    }
   ],
   "source": [
    "num_classes = 50\n",
    "\n",
    "model = tf.keras.Sequential([\n",
    "    tf.keras.layers.Conv2D(32, (3, 3), activation='relu', input_shape=(100, 100, 1)),\n",
    "    tf.keras.layers.MaxPooling2D((2, 2)),\n",
    "    tf.keras.layers.BatchNormalization(),\n",
    "    tf.keras.layers.Conv2D(64, (3, 3), activation='relu'),\n",
    "    tf.keras.layers.MaxPooling2D((2, 2)),\n",
    "    tf.keras.layers.BatchNormalization(),\n",
    "    tf.keras.layers.Conv2D(128, (3, 3), activation='relu'),\n",
    "    tf.keras.layers.MaxPooling2D((2, 2)),\n",
    "    tf.keras.layers.BatchNormalization(),\n",
    "    tf.keras.layers.Flatten(),\n",
    "    tf.keras.layers.Dense(512, activation='relu'),\n",
    "    tf.keras.layers.Dense(50, activation='softmax')\n",
    "])\n",
    "\n",
    "\n",
    "model.compile(\n",
    "    optimizer=tf.keras.optimizers.Adam(learning_rate=0.001),\n",
    "    loss=\"sparse_categorical_crossentropy\",\n",
    "    metrics=\"accuracy\")\n"
   ]
  },
  {
   "cell_type": "code",
   "execution_count": 9,
   "id": "3a99be9a",
   "metadata": {
    "scrolled": false
   },
   "outputs": [
    {
     "name": "stdout",
     "output_type": "stream",
     "text": [
      "Epoch 1/5\n",
      "1433/1433 [==============================] - 321s 223ms/step - loss: 0.8350 - accuracy: 0.7733 - val_loss: 0.4832 - val_accuracy: 0.8522\n",
      "Epoch 2/5\n",
      "1433/1433 [==============================] - 339s 237ms/step - loss: 0.3180 - accuracy: 0.8990 - val_loss: 0.4184 - val_accuracy: 0.8774\n",
      "Epoch 3/5\n",
      "1433/1433 [==============================] - 348s 243ms/step - loss: 0.2010 - accuracy: 0.9352 - val_loss: 0.3769 - val_accuracy: 0.8994\n",
      "Epoch 4/5\n",
      "1433/1433 [==============================] - 340s 237ms/step - loss: 0.1412 - accuracy: 0.9554 - val_loss: 0.4068 - val_accuracy: 0.9039\n",
      "Epoch 5/5\n",
      "1433/1433 [==============================] - 385s 269ms/step - loss: 0.1061 - accuracy: 0.9659 - val_loss: 0.5161 - val_accuracy: 0.8842\n"
     ]
    }
   ],
   "source": [
    "log = model.fit(x=data_train,\n",
    "          epochs=5,\n",
    "          validation_data=data_val)"
   ]
  },
  {
   "cell_type": "code",
   "execution_count": 10,
   "id": "5193cc8a",
   "metadata": {},
   "outputs": [
    {
     "name": "stdout",
     "output_type": "stream",
     "text": [
      "Found 9504 files belonging to 50 classes.\n"
     ]
    }
   ],
   "source": [
    "data_test = tf.keras.utils.image_dataset_from_directory(test_dir, labels='inferred', image_size=(100, 100), batch_size=32, shuffle=False, color_mode='grayscale')\n",
    "data_test = data_test.map(lambda x, y: (x, y))"
   ]
  },
  {
   "cell_type": "code",
   "execution_count": 11,
   "id": "a029b7db",
   "metadata": {},
   "outputs": [
    {
     "name": "stdout",
     "output_type": "stream",
     "text": [
      "297/297 [==============================] - 19s 63ms/step\n"
     ]
    }
   ],
   "source": [
    "y_pred = model.predict(data_test)"
   ]
  },
  {
   "cell_type": "code",
   "execution_count": 12,
   "id": "671acca9",
   "metadata": {},
   "outputs": [],
   "source": [
    "y_hat = np.argmax(y_pred, axis=1)\n",
    "y_true = np.concatenate([y for x, y in data_test], axis=0)"
   ]
  },
  {
   "cell_type": "code",
   "execution_count": 13,
   "id": "b6dc3c6c",
   "metadata": {},
   "outputs": [
    {
     "name": "stdout",
     "output_type": "stream",
     "text": [
      "                                    precision    recall  f1-score   support\n",
      "\n",
      "                 Amylax_triacantha     0.6667    0.5000    0.5714         4\n",
      "           Aphanizomenon_flosaquae     0.9667    0.9133    0.9392      1049\n",
      "       Aphanothece_paralleliformis     0.2500    0.2000    0.2222         5\n",
      "                             Beads     1.0000    0.9500    0.9744        20\n",
      "                      Centrales_sp     0.8163    0.5556    0.6612        72\n",
      "             Ceratoneis_closterium     0.2857    0.5000    0.3636         8\n",
      "                    Chaetoceros_sp     0.9424    0.6298    0.7550       208\n",
      "             Chaetoceros_sp_single     0.8611    0.9394    0.8986        33\n",
      "                    Chlorococcales     0.2069    0.4000    0.2727        15\n",
      "                     Chroococcales     0.5714    0.3636    0.4444        22\n",
      "                 Chroococcus_small     0.7639    0.8800    0.8178       125\n",
      "                           Ciliata     0.6154    0.6486    0.6316        37\n",
      "                   Cryptomonadales     0.7812    0.4630    0.5814       108\n",
      "           Cryptophyceae-Teleaulax     0.9603    0.9668    0.9635      1025\n",
      "      Cyclotella_choctawhatcheeana     0.8182    0.5625    0.6667        16\n",
      "        Cymbomonas_tetramitiformis     0.7097    0.7097    0.7097        31\n",
      "                       Dinophyceae     0.8350    0.7963    0.8152       216\n",
      "              Dinophysis_acuminata     0.6829    0.8235    0.7467        34\n",
      "       Dolichospermum-Anabaenopsis     0.9480    0.9408    0.9444      1842\n",
      "Dolichospermum-Anabaenopsis-coiled     0.7937    0.9284    0.8557       377\n",
      "                    Euglenophyceae     0.6875    0.6875    0.6875        16\n",
      "                   Eutreptiella_sp     0.8964    0.8964    0.8964       338\n",
      "                  Gonyaulax_verior     0.5000    0.2500    0.3333         4\n",
      "                     Gymnodiniales     0.3571    0.4545    0.4000        11\n",
      "                  Gymnodinium_like     0.1429    0.2800    0.1892        25\n",
      "             Heterocapsa_rotundata     0.7442    0.6882    0.7151        93\n",
      "             Heterocapsa_triquetra     0.9322    0.8943    0.9129       492\n",
      "                        Heterocyte     0.6852    0.9250    0.7872        40\n",
      "            Katablepharis_remigera     0.2778    0.5556    0.3704         9\n",
      "                     Licmophora_sp     0.2444    0.9167    0.3860        12\n",
      "                  Melosira_arctica     0.6250    0.7143    0.6667         7\n",
      "                   Merismopedia_sp     0.1613    0.6250    0.2564        16\n",
      "                 Mesodinium_rubrum     0.9225    0.6959    0.7933       171\n",
      "           Monoraphidium_contortum     0.9057    0.9600    0.9320        50\n",
      "                Nitzschia_paleacea     0.6667    0.7273    0.6957        11\n",
      "               Nodularia_spumigena     0.8235    0.5385    0.6512        26\n",
      "                       Oocystis_sp     0.9205    0.6378    0.7535       127\n",
      "                   Oscillatoriales     0.8390    0.9940    0.9100       666\n",
      "                Pauliella_taeniata     0.9500    1.0000    0.9744        19\n",
      "                 Pennales_sp_thick     0.7778    0.6562    0.7119        32\n",
      "                  Pennales_sp_thin     0.9492    0.4746    0.6328       118\n",
      "       Peridiniella_catenata_chain     0.9286    0.8667    0.8966        30\n",
      "      Peridiniella_catenata_single     0.8156    0.8456    0.8303       136\n",
      "             Prorocentrum_cordatum     0.4149    0.9286    0.5735        42\n",
      "                Pseudopedinella_sp     0.5506    0.8448    0.6667        58\n",
      "                    Pyramimonas_sp     0.8622    0.9135    0.8871       185\n",
      "               Skeletonema_marinoi     0.9820    0.9677    0.9748       620\n",
      "             Snowella-Woronichinia     0.9558    0.9278    0.9416       443\n",
      "           Thalassiosira_levanderi     0.9408    0.8325    0.8833       382\n",
      "                   Uroglenopsis_sp     0.8690    0.9359    0.9012        78\n",
      "\n",
      "                          accuracy                         0.8855      9504\n",
      "                         macro avg     0.7161    0.7261    0.7009      9504\n",
      "                      weighted avg     0.9018    0.8855    0.8881      9504\n",
      "\n"
     ]
    }
   ],
   "source": [
    "import os\n",
    "from sklearn.metrics import classification_report\n",
    "print(classification_report(y_true, y_hat, digits=4, target_names=sorted(os.listdir(test_dir))))"
   ]
  },
  {
   "cell_type": "code",
   "execution_count": 14,
   "id": "804d7035",
   "metadata": {},
   "outputs": [],
   "source": [
    "from keras.models import load_model\n",
    "\n",
    "# Save model\n",
    "model.save('phytoplankton_cnn.h5')"
   ]
  },
  {
   "cell_type": "code",
   "execution_count": null,
   "id": "c5eb768f",
   "metadata": {},
   "outputs": [],
   "source": []
  }
 ],
 "metadata": {
  "kernelspec": {
   "display_name": "Python 3 (ipykernel)",
   "language": "python",
   "name": "python3"
  },
  "language_info": {
   "codemirror_mode": {
    "name": "ipython",
    "version": 3
   },
   "file_extension": ".py",
   "mimetype": "text/x-python",
   "name": "python",
   "nbconvert_exporter": "python",
   "pygments_lexer": "ipython3",
   "version": "3.9.1"
  }
 },
 "nbformat": 4,
 "nbformat_minor": 5
}

{
 "cells": [
  {
   "cell_type": "markdown",
   "source": [
    "# Bernoulli Naive Bayes - removed cyanophycae"
   ],
   "metadata": {
    "collapsed": false
   }
  },
  {
   "cell_type": "markdown",
   "source": [
    "## Without preprocessing"
   ],
   "metadata": {
    "collapsed": false
   }
  },
  {
   "cell_type": "code",
   "execution_count": 1,
   "outputs": [],
   "source": [
    "import numpy as np\n",
    "import pandas as pd\n",
    "from sklearn.naive_bayes import BernoulliNB\n",
    "from sklearn.metrics import classification_report"
   ],
   "metadata": {
    "collapsed": false
   }
  },
  {
   "cell_type": "code",
   "execution_count": 1,
   "outputs": [
    {
     "name": "stdout",
     "output_type": "stream",
     "text": [
      "read train\n",
      "read test\n",
      "read val\n"
     ]
    }
   ],
   "source": [
    "train_csv = pd.read_csv('data/no_processing/train_100.csv', header=None)\n",
    "print(\"read train\")\n",
    "test_csv = pd.read_csv('data/no_processing/test_100.csv', header=None)\n",
    "print(\"read test\")\n",
    "validation_csv = pd.read_csv('data/no_processing/val_100.csv', header=None)\n",
    "print(\"read val\")\n",
    "Y_train = train_csv.iloc[:, -1]\n",
    "X_train = train_csv.iloc[:,:-1]\n",
    "X_test = test_csv.iloc[:,:-1]\n",
    "Y_test = test_csv.iloc[:, -1]"
   ],
   "metadata": {
    "collapsed": false
   }
  },
  {
   "cell_type": "code",
   "execution_count": 2,
   "outputs": [
    {
     "data": {
      "text/plain": "50"
     },
     "execution_count": 2,
     "metadata": {},
     "output_type": "execute_result"
    }
   ],
   "source": [
    "Y_train.nunique()"
   ],
   "metadata": {
    "collapsed": false
   }
  },
  {
   "cell_type": "code",
   "execution_count": 3,
   "outputs": [],
   "source": [
    "X_val = validation_csv.iloc[:, :-1]\n",
    "Y_val = validation_csv.iloc[:, -1]"
   ],
   "metadata": {
    "collapsed": false
   }
  },
  {
   "cell_type": "code",
   "execution_count": 3,
   "outputs": [],
   "source": [
    "y_to_remove = [18, 19, 1, 37, 47, 10, 35, 9, 31, 2]\n",
    "\n",
    "train_mask = np.isin(Y_train, y_to_remove, invert=True)\n",
    "X_train = X_train[train_mask]\n",
    "Y_train = Y_train[train_mask]\n",
    "\n",
    "test_mask = np.isin(Y_test, y_to_remove, invert=True)\n",
    "X_test = X_test[test_mask]\n",
    "Y_test = Y_test[test_mask]\n",
    "\n",
    "val_mask = np.isin(Y_val, y_to_remove, invert=True)\n",
    "X_val = X_val[val_mask]\n",
    "Y_val = Y_val[val_mask]"
   ],
   "metadata": {
    "collapsed": false
   }
  },
  {
   "cell_type": "code",
   "execution_count": 4,
   "outputs": [
    {
     "data": {
      "text/plain": "array([[-0.16512934, -0.16518021, -0.16526912, ..., -0.16076251,\n        -0.16076376, -0.16076075],\n       [ 0.53273529,  0.53267264,  0.53258152, ...,  0.53747973,\n         0.53748393,  0.53747385],\n       [ 0.18380298,  0.18374621,  0.1836562 , ...,  0.18835861,\n         0.18836008,  0.18835655],\n       ...,\n       [-0.51406165, -0.51410663, -0.51419443, ..., -0.50988363,\n        -0.50988761, -0.50987805],\n       [ 0.18380298,  0.18374621,  0.1836562 , ...,  0.18835861,\n         0.18836008,  0.18835655],\n       [-1.21192628, -1.21195948, -1.21204507, ..., -1.20812587,\n        -1.2081353 , -1.20811266]])"
     },
     "execution_count": 4,
     "metadata": {},
     "output_type": "execute_result"
    }
   ],
   "source": [
    "from sklearn.preprocessing import StandardScaler\n",
    "scaler = StandardScaler()\n",
    "scaler.fit_transform(X_train)\n",
    "scaler.fit_transform(X_test)\n",
    "scaler.fit_transform(X_val)"
   ],
   "metadata": {
    "collapsed": false
   }
  },
  {
   "cell_type": "code",
   "execution_count": 5,
   "outputs": [],
   "source": [
    "model = BernoulliNB()\n",
    "model.fit(X_train, Y_train)\n",
    "model.fit(X_val, Y_val)\n",
    "Y_pred = model.predict(X_test)"
   ],
   "metadata": {
    "collapsed": false
   }
  },
  {
   "cell_type": "code",
   "execution_count": 6,
   "outputs": [
    {
     "name": "stdout",
     "output_type": "stream",
     "text": [
      "0.5434826677478208\n",
      "              precision    recall  f1-score   support\n",
      "\n",
      "         0.0       0.00      0.00      0.00         4\n",
      "         3.0       0.00      0.00      0.00        20\n",
      "         4.0       0.16      0.28      0.20        72\n",
      "         5.0       0.00      0.00      0.00         8\n",
      "         6.0       0.56      0.40      0.47       208\n",
      "         7.0       1.00      0.18      0.31        33\n",
      "         8.0       0.00      0.00      0.00        15\n",
      "        11.0       0.67      0.05      0.10        37\n",
      "        12.0       0.20      0.01      0.02       108\n",
      "        13.0       0.62      0.84      0.71      1025\n",
      "        14.0       0.00      0.00      0.00        16\n",
      "        15.0       0.00      0.00      0.00        31\n",
      "        16.0       0.49      0.48      0.48       216\n",
      "        17.0       1.00      0.06      0.11        34\n",
      "        20.0       0.00      0.00      0.00        16\n",
      "        21.0       0.36      0.50      0.41       338\n",
      "        22.0       0.00      0.00      0.00         4\n",
      "        23.0       0.00      0.00      0.00        11\n",
      "        24.0       0.00      0.00      0.00        25\n",
      "        25.0       0.20      0.02      0.04        93\n",
      "        26.0       0.56      0.71      0.62       492\n",
      "        27.0       1.00      0.03      0.05        40\n",
      "        28.0       0.00      0.00      0.00         9\n",
      "        29.0       0.00      0.00      0.00        12\n",
      "        30.0       0.00      0.00      0.00         7\n",
      "        32.0       0.18      0.16      0.17       171\n",
      "        33.0       0.33      0.02      0.04        50\n",
      "        34.0       0.00      0.00      0.00        11\n",
      "        36.0       0.27      0.39      0.32       127\n",
      "        38.0       0.00      0.00      0.00        19\n",
      "        39.0       0.00      0.00      0.00        32\n",
      "        40.0       0.37      0.63      0.47       118\n",
      "        41.0       1.00      0.03      0.06        30\n",
      "        42.0       0.49      0.51      0.50       136\n",
      "        43.0       0.00      0.00      0.00        42\n",
      "        44.0       0.38      0.21      0.27        58\n",
      "        45.0       0.45      0.90      0.60       185\n",
      "        46.0       0.92      0.87      0.89       620\n",
      "        48.0       0.56      0.30      0.39       382\n",
      "        49.0       0.63      0.42      0.51        78\n",
      "\n",
      "    accuracy                           0.54      4933\n",
      "   macro avg       0.31      0.20      0.19      4933\n",
      "weighted avg       0.53      0.54      0.50      4933\n",
      "\n"
     ]
    }
   ],
   "source": [
    "from sklearn.metrics import f1_score, accuracy_score\n",
    "\n",
    "print(f1_score(Y_test, Y_pred, average='micro'))\n",
    "print(classification_report(Y_test, Y_pred, zero_division=0))"
   ],
   "metadata": {
    "collapsed": false
   }
  },
  {
   "cell_type": "markdown",
   "source": [
    "### Ensembling - Bagging"
   ],
   "metadata": {
    "collapsed": false
   }
  },
  {
   "cell_type": "code",
   "execution_count": 7,
   "outputs": [],
   "source": [
    "from sklearn.ensemble import BaggingClassifier\n",
    "\n",
    "base_model = BernoulliNB()\n",
    "ensemble_model = BaggingClassifier(estimator=base_model, n_estimators=10)\n",
    "\n",
    "ensemble_model.fit(X_train, Y_train)\n",
    "ensemble_model.fit(X_val, Y_val)\n",
    "Y_bag_pred = ensemble_model.predict(X_test)\n"
   ],
   "metadata": {
    "collapsed": false
   }
  },
  {
   "cell_type": "code",
   "execution_count": 8,
   "outputs": [
    {
     "name": "stdout",
     "output_type": "stream",
     "text": [
      "              precision    recall  f1-score   support\n",
      "\n",
      "         0.0       0.00      0.00      0.00         4\n",
      "         3.0       0.00      0.00      0.00        20\n",
      "         4.0       0.17      0.22      0.19        72\n",
      "         5.0       0.00      0.00      0.00         8\n",
      "         6.0       0.52      0.45      0.48       208\n",
      "         7.0       0.00      0.00      0.00        33\n",
      "         8.0       0.00      0.00      0.00        15\n",
      "        11.0       0.00      0.00      0.00        37\n",
      "        12.0       0.00      0.00      0.00       108\n",
      "        13.0       0.61      0.85      0.71      1025\n",
      "        14.0       0.00      0.00      0.00        16\n",
      "        15.0       0.00      0.00      0.00        31\n",
      "        16.0       0.48      0.49      0.49       216\n",
      "        17.0       1.00      0.03      0.06        34\n",
      "        20.0       0.00      0.00      0.00        16\n",
      "        21.0       0.36      0.48      0.41       338\n",
      "        22.0       0.00      0.00      0.00         4\n",
      "        23.0       0.00      0.00      0.00        11\n",
      "        24.0       0.00      0.00      0.00        25\n",
      "        25.0       0.25      0.01      0.02        93\n",
      "        26.0       0.54      0.74      0.63       492\n",
      "        27.0       0.00      0.00      0.00        40\n",
      "        28.0       0.00      0.00      0.00         9\n",
      "        29.0       0.00      0.00      0.00        12\n",
      "        30.0       0.00      0.00      0.00         7\n",
      "        32.0       0.20      0.19      0.20       171\n",
      "        33.0       0.00      0.00      0.00        50\n",
      "        34.0       0.00      0.00      0.00        11\n",
      "        36.0       0.28      0.35      0.32       127\n",
      "        38.0       0.00      0.00      0.00        19\n",
      "        39.0       0.00      0.00      0.00        32\n",
      "        40.0       0.38      0.59      0.46       118\n",
      "        41.0       0.00      0.00      0.00        30\n",
      "        42.0       0.49      0.55      0.52       136\n",
      "        43.0       0.00      0.00      0.00        42\n",
      "        44.0       0.47      0.14      0.21        58\n",
      "        45.0       0.45      0.89      0.60       185\n",
      "        46.0       0.91      0.88      0.89       620\n",
      "        48.0       0.56      0.31      0.40       382\n",
      "        49.0       0.69      0.46      0.55        78\n",
      "\n",
      "    accuracy                           0.55      4933\n",
      "   macro avg       0.21      0.19      0.18      4933\n",
      "weighted avg       0.49      0.55      0.50      4933\n",
      "\n"
     ]
    }
   ],
   "source": [
    "print(classification_report(Y_test, Y_bag_pred, zero_division=0))\n"
   ],
   "metadata": {
    "collapsed": false
   }
  },
  {
   "cell_type": "markdown",
   "source": [
    "### Ensembling - Boosting"
   ],
   "metadata": {
    "collapsed": false
   }
  },
  {
   "cell_type": "code",
   "execution_count": 9,
   "outputs": [
    {
     "name": "stdout",
     "output_type": "stream",
     "text": [
      "              precision    recall  f1-score   support\n",
      "\n",
      "         0.0       0.00      0.00      0.00         4\n",
      "         3.0       0.00      0.00      0.00        20\n",
      "         4.0       0.15      0.44      0.22        72\n",
      "         5.0       0.00      0.00      0.00         8\n",
      "         6.0       0.00      0.00      0.00       208\n",
      "         7.0       0.00      0.00      0.00        33\n",
      "         8.0       0.00      0.00      0.00        15\n",
      "        11.0       0.00      0.00      0.00        37\n",
      "        12.0       0.02      0.84      0.05       108\n",
      "        13.0       0.00      0.00      0.00      1025\n",
      "        14.0       0.00      0.00      0.00        16\n",
      "        15.0       0.00      0.00      0.00        31\n",
      "        16.0       0.00      0.00      0.00       216\n",
      "        17.0       0.00      0.00      0.00        34\n",
      "        20.0       0.00      0.00      0.00        16\n",
      "        21.0       0.00      0.00      0.00       338\n",
      "        22.0       0.00      0.00      0.00         4\n",
      "        23.0       0.00      0.00      0.00        11\n",
      "        24.0       0.00      0.00      0.00        25\n",
      "        25.0       0.00      0.00      0.00        93\n",
      "        26.0       0.12      0.06      0.08       492\n",
      "        27.0       0.00      0.00      0.00        40\n",
      "        28.0       0.00      0.00      0.00         9\n",
      "        29.0       0.00      0.00      0.00        12\n",
      "        30.0       0.00      0.00      0.00         7\n",
      "        32.0       0.00      0.00      0.00       171\n",
      "        33.0       0.00      0.00      0.00        50\n",
      "        34.0       0.00      0.00      0.00        11\n",
      "        36.0       0.00      0.00      0.00       127\n",
      "        38.0       0.00      0.00      0.00        19\n",
      "        39.0       0.00      0.00      0.00        32\n",
      "        40.0       0.14      0.36      0.20       118\n",
      "        41.0       0.00      0.00      0.00        30\n",
      "        42.0       0.00      0.00      0.00       136\n",
      "        43.0       0.00      0.00      0.00        42\n",
      "        44.0       0.00      0.00      0.00        58\n",
      "        45.0       0.29      0.12      0.17       185\n",
      "        46.0       0.00      0.00      0.00       620\n",
      "        48.0       0.00      0.00      0.00       382\n",
      "        49.0       0.08      0.26      0.12        78\n",
      "\n",
      "    accuracy                           0.05      4933\n",
      "   macro avg       0.02      0.05      0.02      4933\n",
      "weighted avg       0.03      0.05      0.03      4933\n",
      "\n"
     ]
    }
   ],
   "source": [
    "from sklearn.ensemble import AdaBoostClassifier\n",
    "\n",
    "base_model = BernoulliNB()\n",
    "ensemble_model = AdaBoostClassifier(estimator=base_model, n_estimators=10)\n",
    "\n",
    "ensemble_model.fit(X_train, Y_train)\n",
    "ensemble_model.fit(X_val, Y_val)\n",
    "Y_bag_pred = ensemble_model.predict(X_test)\n",
    "\n",
    "print(classification_report(Y_test, Y_bag_pred, zero_division=0))"
   ],
   "metadata": {
    "collapsed": false
   }
  },
  {
   "cell_type": "markdown",
   "source": [
    "## With PCA"
   ],
   "metadata": {
    "collapsed": false
   }
  },
  {
   "cell_type": "code",
   "execution_count": 10,
   "outputs": [
    {
     "name": "stdout",
     "output_type": "stream",
     "text": [
      "read pca_train\n",
      "read pca_test\n",
      "read pca_val\n"
     ]
    }
   ],
   "source": [
    "pca_train_csv = pd.read_csv('data/pca/train_pca_100.csv', header=None)\n",
    "print(\"read pca_train\")\n",
    "pca_test_csv = pd.read_csv('data/pca/test_pca_100.csv', header=None)\n",
    "print(\"read pca_test\")\n",
    "pca_validation_csv = pd.read_csv('data/pca/val_pca_100.csv', header=None)\n",
    "print(\"read pca_val\")\n",
    "Y_pca_train = pca_train_csv.iloc[:, -1]\n",
    "X_pca_train = pca_train_csv.iloc[:,:-1]\n",
    "X_pca_test = pca_test_csv.iloc[:,:-1]\n",
    "Y_pca_test = pca_test_csv.iloc[:, -1]"
   ],
   "metadata": {
    "collapsed": false
   }
  },
  {
   "cell_type": "code",
   "execution_count": 11,
   "outputs": [
    {
     "data": {
      "text/plain": "50"
     },
     "execution_count": 11,
     "metadata": {},
     "output_type": "execute_result"
    }
   ],
   "source": [
    "Y_pca_train.nunique()"
   ],
   "metadata": {
    "collapsed": false
   }
  },
  {
   "cell_type": "code",
   "execution_count": 12,
   "outputs": [
    {
     "name": "stdout",
     "output_type": "stream",
     "text": [
      "             0          1          2          3         4          5   \\\n",
      "0    -16.466336  -2.714494  11.992666 -10.834296 -0.900435  -3.540316   \n",
      "1     -8.783142   3.957514  -2.074658   9.007975  0.816249   1.089003   \n",
      "2    -17.093755  33.573846   5.749220  -3.429278 -0.537504  -3.497083   \n",
      "3    -10.569433  -9.104736   2.482312  10.366223  0.910529  -3.078894   \n",
      "4      2.345496 -11.760298 -10.589292  -4.828380  1.360099  15.326894   \n",
      "...         ...        ...        ...        ...       ...        ...   \n",
      "3246 -11.496391  -8.861822   5.634696 -14.977110  0.699933   7.998366   \n",
      "3247  -2.400615   5.305121  -8.608640  10.670448  1.238588   0.343435   \n",
      "3248  -2.273494   6.826449  -3.050299   9.093809  1.448333  -7.470119   \n",
      "3249   4.975186  39.419058 -17.034515  -4.816109  3.506012   7.746236   \n",
      "3250 -14.590118  40.628793  -3.396723   9.476272  0.752511   2.059976   \n",
      "\n",
      "            6         7          8          9   ...        90        91  \\\n",
      "0     0.895354  3.264754   1.058304   1.483603  ... -0.637258 -5.225068   \n",
      "1     0.856035 -4.274525   1.035722  -3.057671  ...  3.206038 -1.893741   \n",
      "2     1.164753 -0.514707   1.703397   0.398946  ... -0.370550 -0.818936   \n",
      "3     2.341284 -6.971100  -0.190579  -0.019817  ... -0.681490 -1.098448   \n",
      "4    -4.410273 -9.366243  10.069087 -24.256044  ...  1.742328  0.287380   \n",
      "...        ...       ...        ...        ...  ...       ...       ...   \n",
      "3246 -5.295968  1.346682  -1.194201  -2.355346  ... -0.504319 -2.324955   \n",
      "3247  0.328327  1.389094   1.089755   2.521918  ...  0.132996 -2.951079   \n",
      "3248  4.252046 -4.112748   4.384968   1.423583  ...  2.122945  0.999695   \n",
      "3249 -2.643920 -3.955272   9.051687 -13.075884  ...  2.965312 -1.982699   \n",
      "3250 -4.113443  0.555773  -3.329517   0.085527  ...  3.193092 -0.099060   \n",
      "\n",
      "            92        93        94        95        96        97        98  \\\n",
      "0    -1.848642 -0.893391 -0.885991 -1.828159  0.852684  0.856197  1.459093   \n",
      "1     2.352237  0.928147  0.073319  0.159923  0.817694 -0.685612  2.040697   \n",
      "2     0.484711 -0.478066  0.966375  1.181684 -0.970191 -1.250303  1.139353   \n",
      "3    -1.315164 -0.081597  0.064892  0.996991 -0.956480 -0.644665 -0.367127   \n",
      "4     0.546148  1.141162 -2.064023  1.085256 -0.196932  0.957906  3.265095   \n",
      "...        ...       ...       ...       ...       ...       ...       ...   \n",
      "3246 -2.814926 -2.064235 -1.243307 -1.036105 -1.031892  0.645414 -0.608252   \n",
      "3247 -1.925565 -0.295992  0.600364  1.661385 -0.014441  0.236993  0.506294   \n",
      "3248  0.247842  0.282564  0.491166  1.570386 -0.667986  0.380721  1.763333   \n",
      "3249  1.209640 -2.945357 -2.878157  0.061227  2.274517 -1.559552 -2.557515   \n",
      "3250  0.702491  1.288939 -1.295584  0.321250  0.611451 -1.058501 -0.822863   \n",
      "\n",
      "            99  \n",
      "0     0.792062  \n",
      "1     0.888213  \n",
      "2     0.072104  \n",
      "3    -0.190233  \n",
      "4     0.813616  \n",
      "...        ...  \n",
      "3246  0.599921  \n",
      "3247 -1.804868  \n",
      "3248  1.178879  \n",
      "3249  0.551015  \n",
      "3250  0.343301  \n",
      "\n",
      "[3251 rows x 100 columns]\n"
     ]
    },
    {
     "name": "stderr",
     "output_type": "stream",
     "text": [
      "/var/folders/3x/zj6fq_hs7575trs1w5lb3syr0000gn/T/ipykernel_47145/229246831.py:3: SettingWithCopyWarning: \n",
      "A value is trying to be set on a copy of a slice from a DataFrame\n",
      "\n",
      "See the caveats in the documentation: https://pandas.pydata.org/pandas-docs/stable/user_guide/indexing.html#returning-a-view-versus-a-copy\n",
      "  X_pca_val.drop(X_pca_val.tail(1).index,inplace=True)\n"
     ]
    }
   ],
   "source": [
    "X_pca_val = pca_validation_csv.iloc[:, :-1]\n",
    "Y_pca_val = pca_validation_csv.iloc[:, -1]\n",
    "X_pca_val.drop(X_pca_val.tail(1).index,inplace=True)\n",
    "Y_pca_val.drop(Y_pca_val.tail(1).index, inplace=True)\n",
    "print(X_pca_val)"
   ],
   "metadata": {
    "collapsed": false
   }
  },
  {
   "cell_type": "code",
   "execution_count": 13,
   "outputs": [],
   "source": [
    "y_to_remove = [18, 19, 1, 37, 47, 10, 35, 9, 31, 2]\n",
    "\n",
    "train_mask = np.isin(Y_pca_train, y_to_remove, invert=True)\n",
    "X_pca_train = X_pca_train[train_mask]\n",
    "Y_pca_train = Y_pca_train[train_mask]\n",
    "\n",
    "test_mask = np.isin(Y_pca_test, y_to_remove, invert=True)\n",
    "X_pca_test = X_pca_test[test_mask]\n",
    "Y_pca_test = Y_pca_test[test_mask]\n",
    "\n",
    "val_mask = np.isin(Y_pca_val, y_to_remove, invert=True)\n",
    "X_pca_val = X_pca_val[val_mask]\n",
    "Y_pca_val = Y_pca_val[val_mask]\n"
   ],
   "metadata": {
    "collapsed": false
   }
  },
  {
   "cell_type": "code",
   "execution_count": 14,
   "outputs": [
    {
     "data": {
      "text/plain": "array([[-0.33819592,  0.1312604 , -0.05546641, ..., -0.30820458,\n         0.80524538,  0.42536806],\n       [-0.43783136, -0.53153036,  0.30623968, ..., -0.29034844,\n        -0.16813204, -0.13781354],\n       [ 0.36535118, -0.1758031 , -0.58086436, ..., -0.20793324,\n         1.29997204, -0.43141635],\n       ...,\n       [ 0.01780757,  0.19963922, -0.5740963 , ...,  0.09412514,\n         0.1849537 , -0.98100148],\n       [ 0.02489807,  0.27683284, -0.13290716, ...,  0.15680207,\n         0.69311946,  0.57715795],\n       [-0.66209643,  1.99199532, -0.16040426, ..., -0.47081438,\n        -0.35236594,  0.14080632]])"
     },
     "execution_count": 14,
     "metadata": {},
     "output_type": "execute_result"
    }
   ],
   "source": [
    "from sklearn.preprocessing import StandardScaler\n",
    "\n",
    "scaler = StandardScaler()\n",
    "\n",
    "scaler.fit_transform(X_pca_train)\n",
    "scaler.fit_transform(X_pca_test)\n",
    "scaler.fit_transform(X_pca_val)"
   ],
   "metadata": {
    "collapsed": false
   }
  },
  {
   "cell_type": "code",
   "execution_count": 15,
   "outputs": [],
   "source": [
    "pca_model = BernoulliNB()\n",
    "pca_model.fit(X_pca_train, Y_pca_train)\n",
    "pca_model.fit(X_pca_val, Y_pca_val)\n",
    "Y_pca_pred = pca_model.predict(X_pca_test)"
   ],
   "metadata": {
    "collapsed": false
   }
  },
  {
   "cell_type": "code",
   "execution_count": 16,
   "outputs": [
    {
     "name": "stdout",
     "output_type": "stream",
     "text": [
      "0.47536995742955607\n",
      "              precision    recall  f1-score   support\n",
      "\n",
      "         0.0       0.18      0.50      0.27         4\n",
      "         3.0       0.48      0.65      0.55        20\n",
      "         4.0       0.17      0.28      0.21        72\n",
      "         5.0       0.00      0.00      0.00         8\n",
      "         6.0       0.40      0.47      0.43       208\n",
      "         7.0       0.53      0.30      0.38        33\n",
      "         8.0       0.00      0.00      0.00        15\n",
      "        11.0       0.14      0.08      0.10        37\n",
      "        12.0       0.13      0.17      0.14       108\n",
      "        13.0       0.78      0.45      0.57      1025\n",
      "        14.0       0.01      0.06      0.02        16\n",
      "        15.0       0.20      0.42      0.27        31\n",
      "        16.0       0.56      0.57      0.57       216\n",
      "        17.0       0.22      0.26      0.24        34\n",
      "        20.0       0.00      0.00      0.00        16\n",
      "        21.0       0.46      0.55      0.50       338\n",
      "        22.0       0.00      0.00      0.00         4\n",
      "        23.0       0.00      0.00      0.00        11\n",
      "        24.0       0.02      0.04      0.03        25\n",
      "        25.0       0.13      0.08      0.09        93\n",
      "        26.0       0.64      0.59      0.62       492\n",
      "        27.0       0.08      0.12      0.10        40\n",
      "        28.0       0.00      0.00      0.00         9\n",
      "        29.0       0.33      0.17      0.22        12\n",
      "        30.0       0.08      0.14      0.11         7\n",
      "        32.0       0.16      0.13      0.15       171\n",
      "        33.0       0.38      0.30      0.34        50\n",
      "        34.0       0.00      0.00      0.00        11\n",
      "        36.0       0.17      0.10      0.13       127\n",
      "        38.0       0.39      0.37      0.38        19\n",
      "        39.0       0.12      0.19      0.15        32\n",
      "        40.0       0.43      0.55      0.49       118\n",
      "        41.0       0.47      0.47      0.47        30\n",
      "        42.0       0.32      0.40      0.36       136\n",
      "        43.0       0.07      0.14      0.10        42\n",
      "        44.0       0.24      0.52      0.33        58\n",
      "        45.0       0.42      0.76      0.54       185\n",
      "        46.0       0.94      0.82      0.88       620\n",
      "        48.0       0.49      0.39      0.43       382\n",
      "        49.0       0.35      0.62      0.45        78\n",
      "\n",
      "    accuracy                           0.48      4933\n",
      "   macro avg       0.26      0.29      0.26      4933\n",
      "weighted avg       0.54      0.48      0.49      4933\n",
      "\n"
     ]
    }
   ],
   "source": [
    "from sklearn.metrics import f1_score\n",
    "\n",
    "print(f1_score(Y_pca_test, Y_pca_pred, average='micro'))\n",
    "\n",
    "print(classification_report(Y_pca_test, Y_pca_pred, zero_division=0))"
   ],
   "metadata": {
    "collapsed": false
   }
  },
  {
   "cell_type": "markdown",
   "source": [
    "### Ensembling - Bagging"
   ],
   "metadata": {
    "collapsed": false
   }
  },
  {
   "cell_type": "code",
   "execution_count": 17,
   "outputs": [
    {
     "name": "stdout",
     "output_type": "stream",
     "text": [
      "              precision    recall  f1-score   support\n",
      "\n",
      "         0.0       0.22      0.50      0.31         4\n",
      "         3.0       0.52      0.60      0.56        20\n",
      "         4.0       0.19      0.22      0.20        72\n",
      "         5.0       0.00      0.00      0.00         8\n",
      "         6.0       0.41      0.55      0.47       208\n",
      "         7.0       0.75      0.27      0.40        33\n",
      "         8.0       0.00      0.00      0.00        15\n",
      "        11.0       0.18      0.08      0.11        37\n",
      "        12.0       0.13      0.15      0.14       108\n",
      "        13.0       0.76      0.48      0.59      1025\n",
      "        14.0       0.02      0.06      0.03        16\n",
      "        15.0       0.28      0.35      0.31        31\n",
      "        16.0       0.53      0.57      0.55       216\n",
      "        17.0       0.32      0.24      0.27        34\n",
      "        20.0       0.00      0.00      0.00        16\n",
      "        21.0       0.45      0.57      0.50       338\n",
      "        22.0       0.00      0.00      0.00         4\n",
      "        23.0       0.00      0.00      0.00        11\n",
      "        24.0       0.03      0.04      0.03        25\n",
      "        25.0       0.06      0.04      0.05        93\n",
      "        26.0       0.63      0.63      0.63       492\n",
      "        27.0       0.06      0.05      0.06        40\n",
      "        28.0       0.00      0.00      0.00         9\n",
      "        29.0       0.50      0.25      0.33        12\n",
      "        30.0       0.00      0.00      0.00         7\n",
      "        32.0       0.14      0.15      0.14       171\n",
      "        33.0       0.44      0.28      0.34        50\n",
      "        34.0       0.00      0.00      0.00        11\n",
      "        36.0       0.18      0.09      0.12       127\n",
      "        38.0       0.43      0.32      0.36        19\n",
      "        39.0       0.08      0.06      0.07        32\n",
      "        40.0       0.45      0.53      0.48       118\n",
      "        41.0       0.57      0.57      0.57        30\n",
      "        42.0       0.29      0.46      0.35       136\n",
      "        43.0       0.10      0.10      0.10        42\n",
      "        44.0       0.26      0.47      0.33        58\n",
      "        45.0       0.42      0.77      0.54       185\n",
      "        46.0       0.93      0.86      0.89       620\n",
      "        48.0       0.45      0.40      0.42       382\n",
      "        49.0       0.34      0.59      0.43        78\n",
      "\n",
      "    accuracy                           0.49      4933\n",
      "   macro avg       0.28      0.28      0.27      4933\n",
      "weighted avg       0.53      0.49      0.50      4933\n",
      "\n"
     ]
    }
   ],
   "source": [
    "from sklearn.ensemble import BaggingClassifier\n",
    "\n",
    "base_model = BernoulliNB()\n",
    "ensemble_model = BaggingClassifier(estimator=base_model, n_estimators=10)\n",
    "\n",
    "ensemble_model.fit(X_pca_train, Y_pca_train)\n",
    "ensemble_model.fit(X_pca_val, Y_pca_val)\n",
    "Y_bag_pred = ensemble_model.predict(X_pca_test)\n",
    "\n",
    "print(classification_report(Y_pca_test, Y_bag_pred, zero_division=0))"
   ],
   "metadata": {
    "collapsed": false
   }
  },
  {
   "cell_type": "markdown",
   "source": [
    "### Ensembling - Boosting\n"
   ],
   "metadata": {
    "collapsed": false
   }
  },
  {
   "cell_type": "code",
   "execution_count": 18,
   "outputs": [
    {
     "name": "stdout",
     "output_type": "stream",
     "text": [
      "              precision    recall  f1-score   support\n",
      "\n",
      "         0.0       0.00      0.00      0.00         4\n",
      "         3.0       0.00      0.00      0.00        20\n",
      "         4.0       0.23      0.07      0.11        72\n",
      "         5.0       0.00      0.00      0.00         8\n",
      "         6.0       0.30      0.60      0.40       208\n",
      "         7.0       1.00      0.06      0.11        33\n",
      "         8.0       0.00      0.00      0.00        15\n",
      "        11.0       0.00      0.00      0.00        37\n",
      "        12.0       0.17      0.01      0.02       108\n",
      "        13.0       0.61      0.88      0.72      1025\n",
      "        14.0       0.00      0.00      0.00        16\n",
      "        15.0       0.00      0.00      0.00        31\n",
      "        16.0       0.42      0.40      0.41       216\n",
      "        17.0       0.40      0.06      0.10        34\n",
      "        20.0       0.00      0.00      0.00        16\n",
      "        21.0       0.50      0.34      0.40       338\n",
      "        22.0       0.00      0.00      0.00         4\n",
      "        23.0       0.00      0.00      0.00        11\n",
      "        24.0       0.00      0.00      0.00        25\n",
      "        25.0       0.15      0.05      0.08        93\n",
      "        26.0       0.66      0.63      0.65       492\n",
      "        27.0       0.04      0.03      0.03        40\n",
      "        28.0       0.00      0.00      0.00         9\n",
      "        29.0       0.00      0.00      0.00        12\n",
      "        30.0       0.00      0.00      0.00         7\n",
      "        32.0       0.18      0.26      0.21       171\n",
      "        33.0       0.60      0.06      0.11        50\n",
      "        34.0       0.00      0.00      0.00        11\n",
      "        36.0       0.20      0.13      0.16       127\n",
      "        38.0       1.00      0.05      0.10        19\n",
      "        39.0       0.00      0.00      0.00        32\n",
      "        40.0       0.40      0.38      0.39       118\n",
      "        41.0       0.54      0.23      0.33        30\n",
      "        42.0       0.35      0.43      0.39       136\n",
      "        43.0       0.00      0.00      0.00        42\n",
      "        44.0       0.83      0.09      0.16        58\n",
      "        45.0       0.70      0.35      0.46       185\n",
      "        46.0       0.86      0.91      0.88       620\n",
      "        48.0       0.37      0.60      0.45       382\n",
      "        49.0       0.54      0.28      0.37        78\n",
      "\n",
      "    accuracy                           0.53      4933\n",
      "   macro avg       0.28      0.17      0.18      4933\n",
      "weighted avg       0.50      0.53      0.49      4933\n",
      "\n"
     ]
    }
   ],
   "source": [
    "from sklearn.ensemble import AdaBoostClassifier\n",
    "\n",
    "base_model = BernoulliNB()\n",
    "ensemble_model = AdaBoostClassifier(estimator=base_model, n_estimators=60)\n",
    "\n",
    "ensemble_model.fit(X_pca_train, Y_pca_train)\n",
    "ensemble_model.fit(X_pca_val, Y_pca_val)\n",
    "Y_bag_pred = ensemble_model.predict(X_pca_test)\n",
    "\n",
    "print(classification_report(Y_pca_test, Y_bag_pred, zero_division=0))"
   ],
   "metadata": {
    "collapsed": false
   }
  }
 ],
 "metadata": {
  "kernelspec": {
   "display_name": "Python 3",
   "language": "python",
   "name": "python3"
  },
  "language_info": {
   "codemirror_mode": {
    "name": "ipython",
    "version": 2
   },
   "file_extension": ".py",
   "mimetype": "text/x-python",
   "name": "python",
   "nbconvert_exporter": "python",
   "pygments_lexer": "ipython2",
   "version": "2.7.6"
  }
 },
 "nbformat": 4,
 "nbformat_minor": 0
}

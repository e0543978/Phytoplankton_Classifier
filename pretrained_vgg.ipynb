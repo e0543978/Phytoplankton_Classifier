{
 "cells": [
  {
   "cell_type": "code",
   "execution_count": 2,
   "metadata": {},
   "outputs": [],
   "source": [
    "import os\n",
    "os.environ['TF_CPP_MIN_LOG_LEVEL'] = '3'\n",
    "import tensorflow as tf\n",
    "import math\n",
    "from tensorflow import keras\n",
    "from keras import layers\n",
    "import numpy as np"
   ]
  },
  {
   "attachments": {},
   "cell_type": "markdown",
   "metadata": {},
   "source": [
    "The usual pipeline of a transfer-learning & fine-tuning workflow. See https://keras.io/guides/transfer_learning/.\n",
    "1. Append trainable layers to a pretrained foundation model.\n",
    "2. Freeze the base model, train the last layer until convergence.\n",
    "3. Unfreeze the base model, train the whole model with very small learning rate."
   ]
  },
  {
   "attachments": {},
   "cell_type": "markdown",
   "metadata": {},
   "source": [
    "## Data loading and preprocessing"
   ]
  },
  {
   "cell_type": "code",
   "execution_count": 2,
   "metadata": {},
   "outputs": [
    {
     "name": "stdout",
     "output_type": "stream",
     "text": [
      "Found 45828 files belonging to 50 classes.\n"
     ]
    },
    {
     "name": "stderr",
     "output_type": "stream",
     "text": [
      "2023-04-01 18:13:14.991831: I tensorflow/stream_executor/cuda/cuda_gpu_executor.cc:961] could not open file to read NUMA node: /sys/bus/pci/devices/0000:01:00.0/numa_node\n",
      "Your kernel may have been built without NUMA support.\n",
      "2023-04-01 18:13:14.995875: I tensorflow/stream_executor/cuda/cuda_gpu_executor.cc:961] could not open file to read NUMA node: /sys/bus/pci/devices/0000:01:00.0/numa_node\n",
      "Your kernel may have been built without NUMA support.\n",
      "2023-04-01 18:13:14.996123: I tensorflow/stream_executor/cuda/cuda_gpu_executor.cc:961] could not open file to read NUMA node: /sys/bus/pci/devices/0000:01:00.0/numa_node\n",
      "Your kernel may have been built without NUMA support.\n",
      "2023-04-01 18:13:14.996653: I tensorflow/core/platform/cpu_feature_guard.cc:193] This TensorFlow binary is optimized with oneAPI Deep Neural Network Library (oneDNN) to use the following CPU instructions in performance-critical operations:  AVX2 FMA\n",
      "To enable them in other operations, rebuild TensorFlow with the appropriate compiler flags.\n",
      "2023-04-01 18:13:14.997637: I tensorflow/stream_executor/cuda/cuda_gpu_executor.cc:961] could not open file to read NUMA node: /sys/bus/pci/devices/0000:01:00.0/numa_node\n",
      "Your kernel may have been built without NUMA support.\n",
      "2023-04-01 18:13:14.997839: I tensorflow/stream_executor/cuda/cuda_gpu_executor.cc:961] could not open file to read NUMA node: /sys/bus/pci/devices/0000:01:00.0/numa_node\n",
      "Your kernel may have been built without NUMA support.\n",
      "2023-04-01 18:13:14.998012: I tensorflow/stream_executor/cuda/cuda_gpu_executor.cc:961] could not open file to read NUMA node: /sys/bus/pci/devices/0000:01:00.0/numa_node\n",
      "Your kernel may have been built without NUMA support.\n",
      "2023-04-01 18:13:15.680900: I tensorflow/stream_executor/cuda/cuda_gpu_executor.cc:961] could not open file to read NUMA node: /sys/bus/pci/devices/0000:01:00.0/numa_node\n",
      "Your kernel may have been built without NUMA support.\n",
      "2023-04-01 18:13:15.681182: I tensorflow/stream_executor/cuda/cuda_gpu_executor.cc:961] could not open file to read NUMA node: /sys/bus/pci/devices/0000:01:00.0/numa_node\n",
      "Your kernel may have been built without NUMA support.\n",
      "2023-04-01 18:13:15.681192: I tensorflow/core/common_runtime/gpu/gpu_device.cc:1616] Could not identify NUMA node of platform GPU id 0, defaulting to 0.  Your kernel may not have been built with NUMA support.\n",
      "2023-04-01 18:13:15.681412: I tensorflow/stream_executor/cuda/cuda_gpu_executor.cc:961] could not open file to read NUMA node: /sys/bus/pci/devices/0000:01:00.0/numa_node\n",
      "Your kernel may have been built without NUMA support.\n",
      "2023-04-01 18:13:15.681449: I tensorflow/core/common_runtime/gpu/gpu_device.cc:1532] Created device /job:localhost/replica:0/task:0/device:GPU:0 with 3433 MB memory:  -> device: 0, name: NVIDIA GeForce RTX 3060 Laptop GPU, pci bus id: 0000:01:00.0, compute capability: 8.6\n"
     ]
    },
    {
     "name": "stdout",
     "output_type": "stream",
     "text": [
      "Found 9438 files belonging to 50 classes.\n",
      "Found 9504 files belonging to 50 classes.\n"
     ]
    }
   ],
   "source": [
    "data_train = tf.keras.utils.image_dataset_from_directory(\"Processed_Split/train\", labels='inferred', image_size=(224, 224), batch_size=32)\n",
    "data_val = tf.keras.utils.image_dataset_from_directory(\"Processed_Split/val\", labels='inferred', image_size=(224, 224), batch_size=32)\n",
    "data_test = tf.keras.utils.image_dataset_from_directory(\"Processed_Split/test\", labels='inferred', image_size=(224, 224), batch_size=32)"
   ]
  },
  {
   "attachments": {},
   "cell_type": "markdown",
   "metadata": {},
   "source": [
    "## Data preprocessing"
   ]
  },
  {
   "cell_type": "code",
   "execution_count": 3,
   "metadata": {},
   "outputs": [],
   "source": [
    "def augment(image, label):\n",
    "    # Random brightness\n",
    "    image = tf.image.random_brightness(image, max_delta=0.5)\n",
    "    # random hoeizontal flip\n",
    "    image = tf.image.random_flip_left_right(image)\n",
    "    # random vertical flip\n",
    "    image = tf.image.random_flip_up_down(image)\n",
    "    # random shiffting of the channels\n",
    "    image = tf.image.random_hue(image, max_delta=0.1)\n",
    "    # Adjust contrast\n",
    "    image = tf.image.random_contrast(image, lower=0.7, upper=1.3)\n",
    "    #random rotation\n",
    "    delta = tf.random.uniform([], minval = math.radians(-360), maxval = math.radians(360), dtype=tf.float32)\n",
    "    image = tf.image.rot90(image, tf.dtypes.cast(delta, tf.int32))\n",
    "    return image, label\n",
    "\n",
    "# Use the batch method to prepare batches.\n",
    "data_train = data_train.map(lambda x, y: (x/255, y))\n",
    "data_val = data_val.map(lambda x, y: (x/255, y))\n",
    "data_test = data_test.map(lambda x, y: (x/255, y))"
   ]
  },
  {
   "attachments": {},
   "cell_type": "markdown",
   "metadata": {},
   "source": [
    "## Model configuration"
   ]
  },
  {
   "cell_type": "code",
   "execution_count": 4,
   "metadata": {},
   "outputs": [],
   "source": [
    "num_classes = 50\n",
    "\n",
    "input = layers.Input((224,224,3))\n",
    "vgg = keras.applications.vgg16.VGG16(include_top=False, weights=\"imagenet\", input_tensor=input)\n",
    "vgg.trainable = False\n",
    "gap = layers.GlobalAveragePooling2D()(vgg.output)\n",
    "flatten = layers.Flatten()(gap)\n",
    "output = layers.Dense(num_classes, activation=\"softmax\")(flatten)\n",
    "model = tf.keras.Model(vgg.input, output)\n",
    "\n",
    "model.compile(\n",
    "    optimizer=tf.keras.optimizers.Adam(learning_rate=0.001),\n",
    "    loss=\"sparse_categorical_crossentropy\",\n",
    "    metrics=\"accuracy\")"
   ]
  },
  {
   "attachments": {},
   "cell_type": "markdown",
   "metadata": {},
   "source": [
    "## Model training (freeze VGG)"
   ]
  },
  {
   "cell_type": "code",
   "execution_count": 5,
   "metadata": {},
   "outputs": [
    {
     "name": "stdout",
     "output_type": "stream",
     "text": [
      "Epoch 1/20\n"
     ]
    },
    {
     "name": "stderr",
     "output_type": "stream",
     "text": [
      "2023-04-01 18:13:18.831452: I tensorflow/stream_executor/cuda/cuda_dnn.cc:384] Loaded cuDNN version 8100\n",
      "2023-04-01 18:13:19.613934: I tensorflow/core/platform/default/subprocess.cc:304] Start cannot spawn child process: No such file or directory\n",
      "2023-04-01 18:13:20.609991: W tensorflow/core/common_runtime/bfc_allocator.cc:290] Allocator (GPU_0_bfc) ran out of memory trying to allocate 3.46GiB with freed_by_count=0. The caller indicates that this is not a failure, but this may mean that there could be performance gains if more memory were available.\n",
      "2023-04-01 18:13:20.610048: W tensorflow/core/common_runtime/bfc_allocator.cc:290] Allocator (GPU_0_bfc) ran out of memory trying to allocate 3.46GiB with freed_by_count=0. The caller indicates that this is not a failure, but this may mean that there could be performance gains if more memory were available.\n",
      "2023-04-01 18:13:20.610058: W tensorflow/core/common_runtime/bfc_allocator.cc:290] Allocator (GPU_0_bfc) ran out of memory trying to allocate 3.04GiB with freed_by_count=0. The caller indicates that this is not a failure, but this may mean that there could be performance gains if more memory were available.\n",
      "2023-04-01 18:13:20.610064: W tensorflow/core/common_runtime/bfc_allocator.cc:290] Allocator (GPU_0_bfc) ran out of memory trying to allocate 3.04GiB with freed_by_count=0. The caller indicates that this is not a failure, but this may mean that there could be performance gains if more memory were available.\n"
     ]
    },
    {
     "name": "stdout",
     "output_type": "stream",
     "text": [
      "   2/1433 [..............................] - ETA: 3:14 - loss: 4.3113 - accuracy: 0.0156   "
     ]
    },
    {
     "name": "stderr",
     "output_type": "stream",
     "text": [
      "2023-04-01 18:13:22.422080: I tensorflow/stream_executor/cuda/cuda_blas.cc:1786] TensorFloat-32 will be used for the matrix multiplication. This will only be logged once.\n"
     ]
    },
    {
     "name": "stdout",
     "output_type": "stream",
     "text": [
      "1433/1433 [==============================] - ETA: 0s - loss: 1.9337 - accuracy: 0.5393"
     ]
    },
    {
     "name": "stderr",
     "output_type": "stream",
     "text": [
      "2023-04-01 18:17:28.527056: W tensorflow/core/common_runtime/bfc_allocator.cc:290] Allocator (GPU_0_bfc) ran out of memory trying to allocate 3.25GiB with freed_by_count=0. The caller indicates that this is not a failure, but this may mean that there could be performance gains if more memory were available.\n",
      "2023-04-01 18:17:28.527122: W tensorflow/core/common_runtime/bfc_allocator.cc:290] Allocator (GPU_0_bfc) ran out of memory trying to allocate 3.25GiB with freed_by_count=0. The caller indicates that this is not a failure, but this may mean that there could be performance gains if more memory were available.\n",
      "2023-04-01 18:17:28.527133: W tensorflow/core/common_runtime/bfc_allocator.cc:290] Allocator (GPU_0_bfc) ran out of memory trying to allocate 2.98GiB with freed_by_count=0. The caller indicates that this is not a failure, but this may mean that there could be performance gains if more memory were available.\n",
      "2023-04-01 18:17:28.527140: W tensorflow/core/common_runtime/bfc_allocator.cc:290] Allocator (GPU_0_bfc) ran out of memory trying to allocate 2.98GiB with freed_by_count=0. The caller indicates that this is not a failure, but this may mean that there could be performance gains if more memory were available.\n"
     ]
    },
    {
     "name": "stdout",
     "output_type": "stream",
     "text": [
      "1433/1433 [==============================] - 253s 173ms/step - loss: 1.9337 - accuracy: 0.5393 - val_loss: 1.2692 - val_accuracy: 0.6916\n",
      "Epoch 2/20\n",
      "1433/1433 [==============================] - 259s 181ms/step - loss: 1.1455 - accuracy: 0.7198 - val_loss: 0.9297 - val_accuracy: 0.7715\n",
      "Epoch 3/20\n",
      "1433/1433 [==============================] - 266s 186ms/step - loss: 0.8984 - accuracy: 0.7732 - val_loss: 0.7731 - val_accuracy: 0.8063\n",
      "Epoch 4/20\n",
      "1433/1433 [==============================] - 268s 187ms/step - loss: 0.7680 - accuracy: 0.8002 - val_loss: 0.6806 - val_accuracy: 0.8256\n",
      "Epoch 5/20\n",
      "1433/1433 [==============================] - 266s 185ms/step - loss: 0.6852 - accuracy: 0.8193 - val_loss: 0.6208 - val_accuracy: 0.8404\n",
      "Epoch 6/20\n",
      "1433/1433 [==============================] - 266s 185ms/step - loss: 0.6277 - accuracy: 0.8318 - val_loss: 0.5759 - val_accuracy: 0.8499\n",
      "Epoch 7/20\n",
      "1433/1433 [==============================] - 269s 188ms/step - loss: 0.5848 - accuracy: 0.8416 - val_loss: 0.5432 - val_accuracy: 0.8555\n",
      "Epoch 8/20\n",
      "1433/1433 [==============================] - 267s 186ms/step - loss: 0.5510 - accuracy: 0.8498 - val_loss: 0.5151 - val_accuracy: 0.8623\n",
      "Epoch 9/20\n",
      "1433/1433 [==============================] - 266s 186ms/step - loss: 0.5234 - accuracy: 0.8560 - val_loss: 0.4933 - val_accuracy: 0.8665\n",
      "Epoch 10/20\n",
      "1433/1433 [==============================] - 268s 187ms/step - loss: 0.5004 - accuracy: 0.8618 - val_loss: 0.4743 - val_accuracy: 0.8716\n",
      "Epoch 11/20\n",
      "1433/1433 [==============================] - 266s 186ms/step - loss: 0.4807 - accuracy: 0.8667 - val_loss: 0.4586 - val_accuracy: 0.8751\n",
      "Epoch 12/20\n",
      "1433/1433 [==============================] - 265s 185ms/step - loss: 0.4635 - accuracy: 0.8718 - val_loss: 0.4456 - val_accuracy: 0.8774\n",
      "Epoch 13/20\n",
      "1433/1433 [==============================] - 266s 185ms/step - loss: 0.4489 - accuracy: 0.8749 - val_loss: 0.4337 - val_accuracy: 0.8822\n",
      "Epoch 14/20\n",
      "1433/1433 [==============================] - 263s 184ms/step - loss: 0.4353 - accuracy: 0.8792 - val_loss: 0.4227 - val_accuracy: 0.8824\n",
      "Epoch 15/20\n",
      "1433/1433 [==============================] - 266s 185ms/step - loss: 0.4232 - accuracy: 0.8815 - val_loss: 0.4120 - val_accuracy: 0.8842\n",
      "Epoch 16/20\n",
      "1433/1433 [==============================] - 265s 185ms/step - loss: 0.4125 - accuracy: 0.8840 - val_loss: 0.4031 - val_accuracy: 0.8878\n",
      "Epoch 17/20\n",
      "1433/1433 [==============================] - 266s 186ms/step - loss: 0.4024 - accuracy: 0.8865 - val_loss: 0.3956 - val_accuracy: 0.8887\n",
      "Epoch 18/20\n",
      "1433/1433 [==============================] - 264s 184ms/step - loss: 0.3929 - accuracy: 0.8887 - val_loss: 0.3881 - val_accuracy: 0.8909\n",
      "Epoch 19/20\n",
      "1433/1433 [==============================] - 263s 184ms/step - loss: 0.3846 - accuracy: 0.8910 - val_loss: 0.3826 - val_accuracy: 0.8920\n",
      "Epoch 20/20\n",
      "1433/1433 [==============================] - 265s 185ms/step - loss: 0.3768 - accuracy: 0.8938 - val_loss: 0.3749 - val_accuracy: 0.8940\n"
     ]
    }
   ],
   "source": [
    "log = model.fit(x=data_train,\n",
    "          epochs=20,\n",
    "          validation_data=data_val)"
   ]
  },
  {
   "cell_type": "code",
   "execution_count": 6,
   "metadata": {},
   "outputs": [
    {
     "name": "stdout",
     "output_type": "stream",
     "text": [
      "297/297 [==============================] - 45s 151ms/step - loss: 0.3827 - accuracy: 0.8905\n"
     ]
    },
    {
     "name": "stderr",
     "output_type": "stream",
     "text": [
      "WARNING:absl:Found untraced functions such as _jit_compiled_convolution_op, _jit_compiled_convolution_op, _jit_compiled_convolution_op, _jit_compiled_convolution_op, _jit_compiled_convolution_op while saving (showing 5 of 13). These functions will not be directly callable after loading.\n"
     ]
    },
    {
     "name": "stdout",
     "output_type": "stream",
     "text": [
      "INFO:tensorflow:Assets written to: freeze_vgg/assets\n"
     ]
    },
    {
     "name": "stderr",
     "output_type": "stream",
     "text": [
      "INFO:tensorflow:Assets written to: freeze_vgg/assets\n"
     ]
    }
   ],
   "source": [
    "model.evaluate(data_test)\n",
    "model.save(\"freeze_vgg\")"
   ]
  },
  {
   "cell_type": "code",
   "execution_count": 3,
   "metadata": {},
   "outputs": [
    {
     "name": "stdout",
     "output_type": "stream",
     "text": [
      "Found 9504 files belonging to 50 classes.\n",
      "297/297 [==============================] - 49s 141ms/step\n",
      "Accuracy:  0.8904671717171717\n",
      "Precision:  0.8910358676792757\n",
      "Recall:  0.8904671717171717\n",
      "F1:  0.885039307059431\n"
     ]
    }
   ],
   "source": [
    "tf_model = tf.keras.models.load_model('freeze_vgg')\n",
    "data_test = tf.keras.utils.image_dataset_from_directory(\"Processed_Split/test\", labels='inferred', image_size=(224, 224), batch_size=32, shuffle=False)\n",
    "data_test = data_test.map(lambda x, y: (x/255, y))\n",
    "y_pred = tf_model.predict(data_test)\n",
    "y_hat = np.argmax(y_pred, axis=1)\n",
    "y_true = np.concatenate([y for x, y in data_test], axis=0)\n",
    "from sklearn.metrics import accuracy_score, precision_score, recall_score, f1_score\n",
    "print(\"Accuracy: \", accuracy_score(y_true, y_hat))\n",
    "print(\"Precision: \", precision_score(y_true, y_hat, average='weighted'))\n",
    "print(\"Recall: \", recall_score(y_true, y_hat, average='weighted'))\n",
    "print(\"F1: \", f1_score(y_true, y_hat, average='weighted'))"
   ]
  },
  {
   "attachments": {},
   "cell_type": "markdown",
   "metadata": {},
   "source": [
    "## Model training (unfreeze VGG)"
   ]
  },
  {
   "cell_type": "code",
   "execution_count": 7,
   "metadata": {},
   "outputs": [
    {
     "name": "stdout",
     "output_type": "stream",
     "text": [
      "Epoch 1/10\n"
     ]
    },
    {
     "name": "stderr",
     "output_type": "stream",
     "text": [
      "2023-04-01 19:42:22.969455: W tensorflow/core/common_runtime/bfc_allocator.cc:290] Allocator (GPU_0_bfc) ran out of memory trying to allocate 2.19GiB with freed_by_count=0. The caller indicates that this is not a failure, but this may mean that there could be performance gains if more memory were available.\n",
      "2023-04-01 19:42:22.969526: W tensorflow/core/common_runtime/bfc_allocator.cc:290] Allocator (GPU_0_bfc) ran out of memory trying to allocate 2.19GiB with freed_by_count=0. The caller indicates that this is not a failure, but this may mean that there could be performance gains if more memory were available.\n"
     ]
    },
    {
     "name": "stdout",
     "output_type": "stream",
     "text": [
      "1433/1433 [==============================] - 643s 446ms/step - loss: 0.2366 - accuracy: 0.9230 - val_loss: 0.1817 - val_accuracy: 0.9454 - lr: 1.0000e-05\n",
      "Epoch 2/10\n",
      "1433/1433 [==============================] - 638s 445ms/step - loss: 0.1279 - accuracy: 0.9579 - val_loss: 0.1584 - val_accuracy: 0.9501 - lr: 1.0000e-05\n",
      "Epoch 3/10\n",
      "1433/1433 [==============================] - 634s 442ms/step - loss: 0.0849 - accuracy: 0.9725 - val_loss: 0.1343 - val_accuracy: 0.9590 - lr: 1.0000e-05\n",
      "Epoch 4/10\n",
      "1433/1433 [==============================] - 632s 441ms/step - loss: 0.0623 - accuracy: 0.9787 - val_loss: 0.1238 - val_accuracy: 0.9639 - lr: 1.0000e-05\n",
      "Epoch 5/10\n",
      "1433/1433 [==============================] - 636s 444ms/step - loss: 0.0476 - accuracy: 0.9836 - val_loss: 0.1430 - val_accuracy: 0.9583 - lr: 1.0000e-05\n",
      "Epoch 6/10\n",
      "1433/1433 [==============================] - 610s 426ms/step - loss: 0.0385 - accuracy: 0.9874 - val_loss: 0.1493 - val_accuracy: 0.9586 - lr: 1.0000e-05\n",
      "Epoch 7/10\n",
      "1433/1433 [==============================] - 586s 409ms/step - loss: 0.0304 - accuracy: 0.9897 - val_loss: 0.1535 - val_accuracy: 0.9622 - lr: 1.0000e-05\n",
      "Epoch 8/10\n",
      "1433/1433 [==============================] - 588s 410ms/step - loss: 0.0238 - accuracy: 0.9921 - val_loss: 0.1700 - val_accuracy: 0.9613 - lr: 1.0000e-05\n",
      "Epoch 9/10\n",
      "1433/1433 [==============================] - 588s 410ms/step - loss: 0.0234 - accuracy: 0.9924 - val_loss: 0.1455 - val_accuracy: 0.9616 - lr: 1.0000e-05\n",
      "Epoch 10/10\n",
      "1433/1433 [==============================] - 587s 410ms/step - loss: 0.0086 - accuracy: 0.9976 - val_loss: 0.1370 - val_accuracy: 0.9702 - lr: 5.0000e-06\n"
     ]
    }
   ],
   "source": [
    "vgg.trainable = True\n",
    "model.compile(\n",
    "    optimizer=tf.keras.optimizers.Adam(learning_rate=1e-5),\n",
    "    loss=\"sparse_categorical_crossentropy\",\n",
    "    metrics=\"accuracy\")\n",
    "\n",
    "from keras.callbacks import ReduceLROnPlateau\n",
    "from keras.callbacks import EarlyStopping\n",
    "\n",
    "early_stopping = EarlyStopping(patience=10, restore_best_weights=True)\n",
    "reduce_lr = ReduceLROnPlateau('val_loss', factor=0.5, patience=5, min_lr=0.000003125)\n",
    "\n",
    "callbacks = [early_stopping, reduce_lr]\n",
    "\n",
    "log = model.fit(x=data_train,\n",
    "          epochs=10,\n",
    "          validation_data=data_val, callbacks=callbacks)\n"
   ]
  },
  {
   "cell_type": "code",
   "execution_count": 8,
   "metadata": {},
   "outputs": [
    {
     "name": "stdout",
     "output_type": "stream",
     "text": [
      "297/297 [==============================] - 41s 138ms/step - loss: 0.1138 - accuracy: 0.9738\n"
     ]
    },
    {
     "name": "stderr",
     "output_type": "stream",
     "text": [
      "WARNING:absl:Found untraced functions such as _jit_compiled_convolution_op, _jit_compiled_convolution_op, _jit_compiled_convolution_op, _jit_compiled_convolution_op, _jit_compiled_convolution_op while saving (showing 5 of 13). These functions will not be directly callable after loading.\n"
     ]
    },
    {
     "name": "stdout",
     "output_type": "stream",
     "text": [
      "INFO:tensorflow:Assets written to: vgg/assets\n"
     ]
    },
    {
     "name": "stderr",
     "output_type": "stream",
     "text": [
      "INFO:tensorflow:Assets written to: vgg/assets\n"
     ]
    }
   ],
   "source": [
    "model.evaluate(data_test)\n",
    "model.save('vgg')"
   ]
  },
  {
   "attachments": {},
   "cell_type": "markdown",
   "metadata": {},
   "source": [
    "## Evaluation metrics on test data"
   ]
  },
  {
   "cell_type": "code",
   "execution_count": 4,
   "metadata": {},
   "outputs": [],
   "source": [
    "trained_model = tf.keras.models.load_model('vgg')"
   ]
  },
  {
   "cell_type": "code",
   "execution_count": 5,
   "metadata": {},
   "outputs": [
    {
     "name": "stdout",
     "output_type": "stream",
     "text": [
      "Found 9504 files belonging to 50 classes.\n"
     ]
    }
   ],
   "source": [
    "data_test = tf.keras.utils.image_dataset_from_directory(\"Processed_Split/test\", labels='inferred', image_size=(224, 224), batch_size=32, shuffle=False)\n",
    "data_test = data_test.map(lambda x, y: (x/255, y))"
   ]
  },
  {
   "cell_type": "code",
   "execution_count": 6,
   "metadata": {},
   "outputs": [
    {
     "name": "stdout",
     "output_type": "stream",
     "text": [
      "297/297 [==============================] - 43s 143ms/step\n"
     ]
    }
   ],
   "source": [
    "y_pred = trained_model.predict(data_test)"
   ]
  },
  {
   "cell_type": "code",
   "execution_count": 7,
   "metadata": {},
   "outputs": [],
   "source": [
    "y_hat = np.argmax(y_pred, axis=1)\n",
    "y_true = np.concatenate([y for x, y in data_test], axis=0)"
   ]
  },
  {
   "cell_type": "code",
   "execution_count": 8,
   "metadata": {},
   "outputs": [
    {
     "name": "stdout",
     "output_type": "stream",
     "text": [
      "Accuracy:  0.9738005050505051\n",
      "Precision:  0.9229391339597361\n",
      "Recall:  0.9224361562840273\n",
      "F1:  0.9204244057890988\n"
     ]
    }
   ],
   "source": [
    "from sklearn.metrics import accuracy_score, precision_score, recall_score, f1_score\n",
    "print(\"Accuracy: \", accuracy_score(y_true, y_hat))\n",
    "print(\"Precision: \", precision_score(y_true, y_hat, average='macro'))\n",
    "print(\"Recall: \", recall_score(y_true, y_hat, average='macro'))\n",
    "print(\"F1: \", f1_score(y_true, y_hat, average='macro'))"
   ]
  },
  {
   "cell_type": "code",
   "execution_count": 10,
   "metadata": {},
   "outputs": [
    {
     "name": "stdout",
     "output_type": "stream",
     "text": [
      "                                    precision    recall  f1-score   support\n",
      "\n",
      "                 Amylax_triacantha     0.7500    0.7500    0.7500         4\n",
      "           Aphanizomenon_flosaquae     0.9895    0.9895    0.9895      1049\n",
      "       Aphanothece_paralleliformis     1.0000    1.0000    1.0000         5\n",
      "                             Beads     1.0000    0.9500    0.9744        20\n",
      "                      Centrales_sp     1.0000    0.9028    0.9489        72\n",
      "             Ceratoneis_closterium     1.0000    0.8750    0.9333         8\n",
      "                    Chaetoceros_sp     0.9850    0.9471    0.9657       208\n",
      "             Chaetoceros_sp_single     0.9688    0.9394    0.9538        33\n",
      "                    Chlorococcales     0.7500    0.8000    0.7742        15\n",
      "                     Chroococcales     1.0000    0.6364    0.7778        22\n",
      "                 Chroococcus_small     0.9752    0.9440    0.9593       125\n",
      "                           Ciliata     0.8537    0.9459    0.8974        37\n",
      "                   Cryptomonadales     0.8491    0.8333    0.8411       108\n",
      "           Cryptophyceae-Teleaulax     0.9922    0.9922    0.9922      1025\n",
      "      Cyclotella_choctawhatcheeana     0.9412    1.0000    0.9697        16\n",
      "        Cymbomonas_tetramitiformis     0.9062    0.9355    0.9206        31\n",
      "                       Dinophyceae     0.9245    0.9074    0.9159       216\n",
      "              Dinophysis_acuminata     0.9688    0.9118    0.9394        34\n",
      "       Dolichospermum-Anabaenopsis     0.9886    0.9886    0.9886      1842\n",
      "Dolichospermum-Anabaenopsis-coiled     0.9657    0.9708    0.9683       377\n",
      "                    Euglenophyceae     1.0000    1.0000    1.0000        16\n",
      "                   Eutreptiella_sp     0.9559    0.9615    0.9587       338\n",
      "                  Gonyaulax_verior     0.6000    0.7500    0.6667         4\n",
      "                     Gymnodiniales     0.6923    0.8182    0.7500        11\n",
      "                  Gymnodinium_like     0.6667    0.5600    0.6087        25\n",
      "             Heterocapsa_rotundata     0.9468    0.9570    0.9519        93\n",
      "             Heterocapsa_triquetra     0.9623    0.9858    0.9739       492\n",
      "                        Heterocyte     0.9737    0.9250    0.9487        40\n",
      "            Katablepharis_remigera     0.6667    0.8889    0.7619         9\n",
      "                     Licmophora_sp     0.9231    1.0000    0.9600        12\n",
      "                  Melosira_arctica     0.8750    1.0000    0.9333         7\n",
      "                   Merismopedia_sp     0.7222    0.8125    0.7647        16\n",
      "                 Mesodinium_rubrum     0.8865    0.9591    0.9213       171\n",
      "           Monoraphidium_contortum     1.0000    1.0000    1.0000        50\n",
      "                Nitzschia_paleacea     0.9091    0.9091    0.9091        11\n",
      "               Nodularia_spumigena     0.8621    0.9615    0.9091        26\n",
      "                       Oocystis_sp     0.9754    0.9370    0.9558       127\n",
      "                   Oscillatoriales     0.9955    0.9955    0.9955       666\n",
      "                Pauliella_taeniata     1.0000    1.0000    1.0000        19\n",
      "                 Pennales_sp_thick     0.9677    0.9375    0.9524        32\n",
      "                  Pennales_sp_thin     0.9669    0.9915    0.9791       118\n",
      "       Peridiniella_catenata_chain     0.9667    0.9667    0.9667        30\n",
      "      Peridiniella_catenata_single     0.9478    0.9338    0.9407       136\n",
      "             Prorocentrum_cordatum     1.0000    0.8095    0.8947        42\n",
      "                Pseudopedinella_sp     0.9649    0.9483    0.9565        58\n",
      "                    Pyramimonas_sp     0.9630    0.9838    0.9733       185\n",
      "               Skeletonema_marinoi     0.9952    0.9968    0.9960       620\n",
      "             Snowella-Woronichinia     0.9692    0.9932    0.9810       443\n",
      "           Thalassiosira_levanderi     0.9841    0.9712    0.9776       382\n",
      "                   Uroglenopsis_sp     1.0000    0.9487    0.9737        78\n",
      "\n",
      "                          accuracy                         0.9738      9504\n",
      "                         macro avg     0.9229    0.9224    0.9204      9504\n",
      "                      weighted avg     0.9743    0.9738    0.9737      9504\n",
      "\n"
     ]
    }
   ],
   "source": [
    "import os\n",
    "from sklearn.metrics import classification_report\n",
    "print(classification_report(y_true, y_hat, digits=4, target_names=sorted(os.listdir(\"Processed_Split/test\"))))"
   ]
  }
 ],
 "metadata": {
  "kernelspec": {
   "display_name": "tf",
   "language": "python",
   "name": "python3"
  },
  "language_info": {
   "codemirror_mode": {
    "name": "ipython",
    "version": 3
   },
   "file_extension": ".py",
   "mimetype": "text/x-python",
   "name": "python",
   "nbconvert_exporter": "python",
   "pygments_lexer": "ipython3",
   "version": "3.9.15"
  },
  "orig_nbformat": 4
 },
 "nbformat": 4,
 "nbformat_minor": 2
}

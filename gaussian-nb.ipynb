{
 "cells": [
  {
   "cell_type": "markdown",
   "source": [
    "## Gaussian Naive Bayes"
   ],
   "metadata": {
    "collapsed": false
   }
  },
  {
   "cell_type": "markdown",
   "source": [
    "Without preprocessing"
   ],
   "metadata": {
    "collapsed": false
   }
  },
  {
   "cell_type": "code",
   "execution_count": 1,
   "metadata": {
    "collapsed": true
   },
   "outputs": [],
   "source": [
    "import numpy as np\n",
    "import pandas as pd\n",
    "from sklearn.naive_bayes import GaussianNB\n",
    "from sklearn.metrics import classification_report"
   ]
  },
  {
   "cell_type": "code",
   "execution_count": 2,
   "outputs": [
    {
     "name": "stdout",
     "output_type": "stream",
     "text": [
      "read train\n",
      "read test\n",
      "read val\n"
     ]
    }
   ],
   "source": [
    "train_csv = pd.read_csv('data/no_processing/train_100.csv', header=None)\n",
    "print(\"read train\")\n",
    "test_csv = pd.read_csv('data/no_processing/test_100.csv', header=None)\n",
    "print(\"read test\")\n",
    "validation_csv = pd.read_csv('data/no_processing/val_100.csv', header=None)\n",
    "print(\"read val\")\n",
    "Y_train = train_csv.iloc[:, -1]\n",
    "X_train = train_csv.iloc[:,:-1]\n",
    "X_test = test_csv.iloc[:,:-1]\n",
    "Y_test = test_csv.iloc[:, -1]"
   ],
   "metadata": {
    "collapsed": false
   }
  },
  {
   "cell_type": "code",
   "execution_count": 3,
   "outputs": [
    {
     "data": {
      "text/plain": "50"
     },
     "execution_count": 3,
     "metadata": {},
     "output_type": "execute_result"
    }
   ],
   "source": [
    "Y_train.nunique()"
   ],
   "metadata": {
    "collapsed": false
   }
  },
  {
   "cell_type": "code",
   "execution_count": 4,
   "outputs": [],
   "source": [
    "model = GaussianNB()\n",
    "model.fit(X_train, Y_train)\n",
    "Y_pred = model.predict(X_test)"
   ],
   "metadata": {
    "collapsed": false
   }
  },
  {
   "cell_type": "code",
   "execution_count": 5,
   "outputs": [
    {
     "name": "stdout",
     "output_type": "stream",
     "text": [
      "              precision    recall  f1-score   support\n",
      "\n",
      "         0.0       1.00      0.00      0.00         4\n",
      "         1.0       1.00      0.00      0.00      1049\n",
      "         2.0       0.00      0.00      0.00         5\n",
      "         3.0       0.34      0.75      0.47        20\n",
      "         4.0       0.02      0.03      0.02        72\n",
      "         5.0       0.02      0.12      0.04         8\n",
      "         6.0       0.38      0.38      0.38       208\n",
      "         7.0       0.71      0.36      0.48        33\n",
      "         8.0       0.00      0.00      0.00        15\n",
      "         9.0       0.00      0.00      0.00        22\n",
      "        10.0       0.08      0.30      0.12       125\n",
      "        11.0       0.07      0.03      0.04        37\n",
      "        12.0       0.00      0.00      0.00       108\n",
      "        13.0       0.58      0.37      0.45      1025\n",
      "        14.0       1.00      0.00      0.00        16\n",
      "        15.0       0.03      0.35      0.06        31\n",
      "        16.0       0.38      0.06      0.10       216\n",
      "        17.0       0.03      0.53      0.06        34\n",
      "        18.0       0.47      0.01      0.02      1842\n",
      "        19.0       0.32      0.24      0.28       377\n",
      "        20.0       0.14      0.31      0.19        16\n",
      "        21.0       0.58      0.02      0.04       338\n",
      "        22.0       0.00      0.00      0.00         4\n",
      "        23.0       0.01      0.18      0.01        11\n",
      "        24.0       0.03      0.28      0.05        25\n",
      "        25.0       0.09      0.03      0.05        93\n",
      "        26.0       0.14      0.00      0.00       492\n",
      "        27.0       0.08      0.42      0.13        40\n",
      "        28.0       0.02      0.33      0.04         9\n",
      "        29.0       0.01      0.25      0.02        12\n",
      "        30.0       0.01      0.14      0.03         7\n",
      "        31.0       1.00      0.00      0.00        16\n",
      "        32.0       0.07      0.02      0.03       171\n",
      "        33.0       0.05      0.72      0.09        50\n",
      "        34.0       0.01      0.09      0.03        11\n",
      "        35.0       0.00      0.00      0.00        26\n",
      "        36.0       0.16      0.09      0.12       127\n",
      "        37.0       0.28      0.96      0.43       666\n",
      "        38.0       0.04      0.42      0.07        19\n",
      "        39.0       0.00      0.00      0.00        32\n",
      "        40.0       0.13      0.53      0.21       118\n",
      "        41.0       0.50      0.03      0.06        30\n",
      "        42.0       0.40      0.29      0.33       136\n",
      "        43.0       0.05      0.55      0.09        42\n",
      "        44.0       0.10      0.17      0.13        58\n",
      "        45.0       0.54      0.78      0.64       185\n",
      "        46.0       1.00      0.00      0.00       620\n",
      "        47.0       0.50      0.01      0.03       443\n",
      "        48.0       0.50      0.00      0.01       382\n",
      "        49.0       0.45      0.06      0.11        78\n",
      "\n",
      "    accuracy                           0.18      9504\n",
      "   macro avg       0.27      0.21      0.11      9504\n",
      "weighted avg       0.49      0.18      0.14      9504\n",
      "\n"
     ]
    }
   ],
   "source": [
    "print(classification_report(Y_test, Y_pred, zero_division=1))"
   ],
   "metadata": {
    "collapsed": false
   }
  },
  {
   "cell_type": "markdown",
   "source": [
    "With PCA"
   ],
   "metadata": {
    "collapsed": false
   }
  },
  {
   "cell_type": "code",
   "execution_count": 6,
   "outputs": [
    {
     "name": "stdout",
     "output_type": "stream",
     "text": [
      "read pca_train\n",
      "read pca_test\n",
      "read pca_val\n"
     ]
    }
   ],
   "source": [
    "pca_train_csv = pd.read_csv('data/pca/train_pca_100.csv', header=None)\n",
    "print(\"read pca_train\")\n",
    "pca_test_csv = pd.read_csv('data/pca/test_pca_100.csv', header=None)\n",
    "print(\"read pca_test\")\n",
    "pca_validation_csv = pd.read_csv('data/pca/val_pca_100.csv', header=None)\n",
    "print(\"read pca_val\")\n",
    "Y_pca_train = pca_train_csv.iloc[:, -1]\n",
    "X_pca_train = pca_train_csv.iloc[:,:-1]\n",
    "X_pca_test = pca_test_csv.iloc[:,:-1]\n",
    "Y_pca_test = pca_test_csv.iloc[:, -1]"
   ],
   "metadata": {
    "collapsed": false
   }
  },
  {
   "cell_type": "code",
   "execution_count": 7,
   "outputs": [
    {
     "data": {
      "text/plain": "50"
     },
     "execution_count": 7,
     "metadata": {},
     "output_type": "execute_result"
    }
   ],
   "source": [
    "Y_pca_train.nunique()"
   ],
   "metadata": {
    "collapsed": false
   }
  },
  {
   "cell_type": "code",
   "execution_count": 8,
   "outputs": [],
   "source": [
    "pca_model = GaussianNB()\n",
    "pca_model.fit(X_pca_train, Y_pca_train)\n",
    "Y_pca_pred = pca_model.predict(X_pca_test)"
   ],
   "metadata": {
    "collapsed": false
   }
  },
  {
   "cell_type": "code",
   "execution_count": 9,
   "outputs": [
    {
     "name": "stdout",
     "output_type": "stream",
     "text": [
      "              precision    recall  f1-score   support\n",
      "\n",
      "         0.0       1.00      0.25      0.40         4\n",
      "         1.0       0.58      0.18      0.28      1049\n",
      "         2.0       0.00      0.00      0.00         5\n",
      "         3.0       0.85      0.85      0.85        20\n",
      "         4.0       0.25      0.11      0.15        72\n",
      "         5.0       0.01      0.12      0.03         8\n",
      "         6.0       0.22      0.15      0.18       208\n",
      "         7.0       0.23      0.15      0.18        33\n",
      "         8.0       0.02      0.13      0.03        15\n",
      "         9.0       0.00      0.00      0.00        22\n",
      "        10.0       0.10      0.37      0.15       125\n",
      "        11.0       0.10      0.05      0.07        37\n",
      "        12.0       0.22      0.37      0.27       108\n",
      "        13.0       0.79      0.53      0.63      1025\n",
      "        14.0       0.00      0.00      0.00        16\n",
      "        15.0       0.13      0.68      0.21        31\n",
      "        16.0       0.67      0.44      0.53       216\n",
      "        17.0       0.17      0.56      0.26        34\n",
      "        18.0       0.68      0.24      0.36      1842\n",
      "        19.0       0.34      0.19      0.24       377\n",
      "        20.0       0.10      0.50      0.17        16\n",
      "        21.0       0.48      0.64      0.55       338\n",
      "        22.0       0.03      0.50      0.05         4\n",
      "        23.0       0.06      0.36      0.10        11\n",
      "        24.0       0.02      0.08      0.03        25\n",
      "        25.0       0.15      0.11      0.12        93\n",
      "        26.0       0.67      0.66      0.67       492\n",
      "        27.0       0.08      0.30      0.12        40\n",
      "        28.0       0.02      0.22      0.04         9\n",
      "        29.0       0.15      0.33      0.21        12\n",
      "        30.0       0.10      0.71      0.18         7\n",
      "        31.0       0.00      0.00      0.00        16\n",
      "        32.0       0.06      0.05      0.06       171\n",
      "        33.0       0.11      0.70      0.18        50\n",
      "        34.0       0.12      0.27      0.17        11\n",
      "        35.0       0.00      0.00      0.00        26\n",
      "        36.0       0.13      0.22      0.17       127\n",
      "        37.0       0.36      0.70      0.47       666\n",
      "        38.0       0.35      0.79      0.48        19\n",
      "        39.0       0.05      0.22      0.09        32\n",
      "        40.0       0.21      0.69      0.33       118\n",
      "        41.0       0.00      0.00      0.00        30\n",
      "        42.0       0.26      0.49      0.34       136\n",
      "        43.0       0.13      0.40      0.19        42\n",
      "        44.0       0.18      0.64      0.28        58\n",
      "        45.0       0.55      0.76      0.64       185\n",
      "        46.0       0.57      0.20      0.29       620\n",
      "        47.0       0.63      0.33      0.43       443\n",
      "        48.0       0.22      0.30      0.25       382\n",
      "        49.0       0.31      0.18      0.23        78\n",
      "\n",
      "    accuracy                           0.36      9504\n",
      "   macro avg       0.25      0.33      0.23      9504\n",
      "weighted avg       0.51      0.36      0.38      9504\n",
      "\n"
     ]
    }
   ],
   "source": [
    "print(classification_report(Y_pca_test, Y_pca_pred, zero_division=1))"
   ],
   "metadata": {
    "collapsed": false
   }
  }
 ],
 "metadata": {
  "kernelspec": {
   "display_name": "Python 3",
   "language": "python",
   "name": "python3"
  },
  "language_info": {
   "codemirror_mode": {
    "name": "ipython",
    "version": 2
   },
   "file_extension": ".py",
   "mimetype": "text/x-python",
   "name": "python",
   "nbconvert_exporter": "python",
   "pygments_lexer": "ipython2",
   "version": "2.7.6"
  }
 },
 "nbformat": 4,
 "nbformat_minor": 0
}
